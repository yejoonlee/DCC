{
  "nbformat": 4,
  "nbformat_minor": 0,
  "metadata": {
    "colab": {
      "name": "04. LRP 실습.ipynb",
      "provenance": [],
      "collapsed_sections": []
    },
    "kernelspec": {
      "name": "python3",
      "display_name": "Python 3"
    },
    "accelerator": "GPU"
  },
  "cells": [
    {
      "cell_type": "markdown",
      "metadata": {
        "id": "WezfcZQuc7zI",
        "colab_type": "text"
      },
      "source": [
        "# Naver sentiment movie corpus\n",
        "- 이 데이터셋은 네이버 영화의 리뷰 중 영화당 100개의 리뷰를 모아 총 200,000개의 리뷰(train: 15만, test: 5만)로 이루져있습니다. \n",
        "\n",
        "- 1-10점까지의 평점 중에서 중립적인 평점(5-8점)은 제외하고 1-4점을 긍정으로, 9-10점을 부정으로 동일한 비율로 데이터에 포함시켰습니다."
      ]
    },
    {
      "cell_type": "markdown",
      "metadata": {
        "id": "9OYaEXcAdOrv",
        "colab_type": "text"
      },
      "source": [
        "![image.png](data:image/png;base64,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)"
      ]
    },
    {
      "cell_type": "markdown",
      "metadata": {
        "id": "bAsP2RTLdUGE",
        "colab_type": "text"
      },
      "source": [
        "- 데이터는 id, document, label 세 개의 열로 이루어져있습니다. \n",
        "\n",
        "- id는 리뷰의 고유한 key 값이고, document는 리뷰의 내용, label은 긍정(0)인지 부정(1)인지를 나타냅니다. \n",
        "\n",
        "- txt로 저장된 데이터를 처리하기 알맞게 list 형식으로 받아서 사용하겠습니다.\n",
        "\n"
      ]
    },
    {
      "cell_type": "markdown",
      "metadata": {
        "id": "kR0TPWANdrH5",
        "colab_type": "text"
      },
      "source": [
        "# Data load & processing"
      ]
    },
    {
      "cell_type": "markdown",
      "metadata": {
        "id": "HXsN8nUsFRyd",
        "colab_type": "text"
      },
      "source": [
        "이제 데이터를 학습하기에 알맞게 처리를 해볼텐데요, KoNLPy 라이브러리를 이용해서 형태소 분석 및 품사 태깅을 하겠습니다.\n",
        "\n",
        "imdb 리뷰 분석 예제처럼 주어진 단어의 빈도만을 사용해서 처리해도 되지만 한국어는 영어와는 달리 띄어쓰기로 의미를 구분짓기에는 한계가 있고,\n",
        "\n",
        "네이버 영화 데이터에는 맞춤법이나 띄어쓰기가 제대로 되어있지 않은 경우가 있기 때문에 정확한 분류를 위해서 KoNLPy를 이용하겠습니다.\n",
        "\n",
        "KoNLPy는 띄어쓰기 알고리즘과 정규화를 이용해서 맞춤법이 틀린 문장도 어느 정도 고쳐주면서 형태소 분석과 품사를 태깅해주는 여러 클래스를 제공합니다. ([링크](https://konlpy-ko.readthedocs.io/ko/v0.4.3/morph/) 참조)\n",
        "\n"
      ]
    },
    {
      "cell_type": "markdown",
      "metadata": {
        "id": "CIkJYAD2IUrM",
        "colab_type": "text"
      },
      "source": [
        "전처리 과정\n",
        "  1. 문장데이터 형태소 분석을 통해 단어로 구분 \n",
        "  2. 나눠진 단어를 많이 등장하는 순서로 정렬해 단어 사전을 만든 후\n",
        "  3. 문장 데이터를 단어의 인덱스로 변경하여 정수화\n",
        "  4. 제로패딩으로 모든 문장 길이를 맞추고\n",
        "  5.워드 임베딩을 통해 좀 더 밀집하게 표현\n"
      ]
    },
    {
      "cell_type": "code",
      "metadata": {
        "id": "0EmnaMFSbdTm",
        "colab_type": "code",
        "colab": {
          "base_uri": "https://localhost:8080/",
          "height": 86
        },
        "outputId": "82f1e725-305b-4d1c-9acf-adce90d28f4c"
      },
      "source": [
        "from tensorflow.keras.utils import get_file\n",
        "\n",
        "train_fname = 'ratings_train.tsv'\n",
        "test_fname = 'ratings_test.tsv'\n",
        "train_origin = 'https://raw.github.com/e9t/nsmc/master/ratings_train.txt'\n",
        "test_origin = 'https://raw.github.com/e9t/nsmc/master/ratings_test.txt'\n",
        "\n",
        "train_path = get_file(train_fname, train_origin)\n",
        "test_path = get_file(test_fname, test_origin)"
      ],
      "execution_count": null,
      "outputs": [
        {
          "output_type": "stream",
          "text": [
            "Downloading data from https://raw.github.com/e9t/nsmc/master/ratings_train.txt\n",
            "14630912/14628807 [==============================] - 0s 0us/step\n",
            "Downloading data from https://raw.github.com/e9t/nsmc/master/ratings_test.txt\n",
            "4898816/4893335 [==============================] - 0s 0us/step\n"
          ],
          "name": "stdout"
        }
      ]
    },
    {
      "cell_type": "code",
      "metadata": {
        "id": "9MdC0ZmzhnTF",
        "colab_type": "code",
        "colab": {}
      },
      "source": [
        "def read_data(filename):\n",
        "    with open(filename, 'r') as f:\n",
        "        data = [line.split('\\t') for line in f.read().splitlines()]\n",
        "        # txt 파일의 헤더(id document label)는 제외하기\n",
        "        data = data[1:]\n",
        "    return data\n",
        "\n",
        "train_data = read_data(train_path)\n",
        "test_data = read_data(test_path)"
      ],
      "execution_count": null,
      "outputs": []
    },
    {
      "cell_type": "code",
      "metadata": {
        "id": "iUFugcTth2Am",
        "colab_type": "code",
        "colab": {
          "base_uri": "https://localhost:8080/",
          "height": 86
        },
        "outputId": "34a818d6-5b6e-4112-b205-47adf3c89a22"
      },
      "source": [
        "print(len(train_data))\n",
        "print(len(train_data[0]))\n",
        "print(len(test_data))\n",
        "print(len(test_data[0]))"
      ],
      "execution_count": null,
      "outputs": [
        {
          "output_type": "stream",
          "text": [
            "150000\n",
            "3\n",
            "50000\n",
            "3\n"
          ],
          "name": "stdout"
        }
      ]
    },
    {
      "cell_type": "markdown",
      "metadata": {
        "id": "yjaSNkbqY71K",
        "colab_type": "text"
      },
      "source": [
        "형태소 분석기 비교\n",
        "- 빠른 속도와 보통의 정확도를 원한다면 \"Komoran\" 또는 \"Hannanum\"\n",
        "\n",
        "- 속도는 느리더라도 정확하고 상세한 품사 정보를 원한다면 \"Kkma\"\n",
        "\n",
        "- 어느 정도의 띄어쓰기 되어 있는 \"인터넷\" 영화평/상품명을 처리할 땐 \"Okt\"\n"
      ]
    },
    {
      "cell_type": "code",
      "metadata": {
        "id": "uH7tdFU4cXYq",
        "colab_type": "code",
        "colab": {
          "base_uri": "https://localhost:8080/",
          "height": 631
        },
        "outputId": "8f81c66d-d9d2-4c53-c0a1-f5707dc6eff4"
      },
      "source": [
        "! pip install konlpy\n",
        "import konlpy\n",
        "\n",
        "konlpy.__version__"
      ],
      "execution_count": null,
      "outputs": [
        {
          "output_type": "stream",
          "text": [
            "Collecting konlpy\n",
            "\u001b[?25l  Downloading https://files.pythonhosted.org/packages/85/0e/f385566fec837c0b83f216b2da65db9997b35dd675e107752005b7d392b1/konlpy-0.5.2-py2.py3-none-any.whl (19.4MB)\n",
            "\u001b[K     |████████████████████████████████| 19.4MB 1.2MB/s \n",
            "\u001b[?25hCollecting JPype1>=0.7.0\n",
            "\u001b[?25l  Downloading https://files.pythonhosted.org/packages/50/49/725710351d78d26c65337b1e3b322d7b27b34b704535ab56afc0d9ab0ffd/JPype1-1.0.1-cp36-cp36m-manylinux2010_x86_64.whl (3.8MB)\n",
            "\u001b[K     |████████████████████████████████| 3.8MB 57.1MB/s \n",
            "\u001b[?25hCollecting beautifulsoup4==4.6.0\n",
            "\u001b[?25l  Downloading https://files.pythonhosted.org/packages/9e/d4/10f46e5cfac773e22707237bfcd51bbffeaf0a576b0a847ec7ab15bd7ace/beautifulsoup4-4.6.0-py3-none-any.whl (86kB)\n",
            "\u001b[K     |████████████████████████████████| 92kB 12.6MB/s \n",
            "\u001b[?25hCollecting tweepy>=3.7.0\n",
            "  Downloading https://files.pythonhosted.org/packages/bb/7c/99d51f80f3b77b107ebae2634108717362c059a41384a1810d13e2429a81/tweepy-3.9.0-py2.py3-none-any.whl\n",
            "Collecting colorama\n",
            "  Downloading https://files.pythonhosted.org/packages/c9/dc/45cdef1b4d119eb96316b3117e6d5708a08029992b2fee2c143c7a0a5cc5/colorama-0.4.3-py2.py3-none-any.whl\n",
            "Requirement already satisfied: lxml>=4.1.0 in /usr/local/lib/python3.6/dist-packages (from konlpy) (4.2.6)\n",
            "Requirement already satisfied: numpy>=1.6 in /usr/local/lib/python3.6/dist-packages (from konlpy) (1.18.5)\n",
            "Requirement already satisfied: typing-extensions; python_version < \"3.8\" in /usr/local/lib/python3.6/dist-packages (from JPype1>=0.7.0->konlpy) (3.7.4.2)\n",
            "Requirement already satisfied: requests[socks]>=2.11.1 in /usr/local/lib/python3.6/dist-packages (from tweepy>=3.7.0->konlpy) (2.23.0)\n",
            "Requirement already satisfied: six>=1.10.0 in /usr/local/lib/python3.6/dist-packages (from tweepy>=3.7.0->konlpy) (1.15.0)\n",
            "Requirement already satisfied: requests-oauthlib>=0.7.0 in /usr/local/lib/python3.6/dist-packages (from tweepy>=3.7.0->konlpy) (1.3.0)\n",
            "Requirement already satisfied: urllib3!=1.25.0,!=1.25.1,<1.26,>=1.21.1 in /usr/local/lib/python3.6/dist-packages (from requests[socks]>=2.11.1->tweepy>=3.7.0->konlpy) (1.24.3)\n",
            "Requirement already satisfied: chardet<4,>=3.0.2 in /usr/local/lib/python3.6/dist-packages (from requests[socks]>=2.11.1->tweepy>=3.7.0->konlpy) (3.0.4)\n",
            "Requirement already satisfied: certifi>=2017.4.17 in /usr/local/lib/python3.6/dist-packages (from requests[socks]>=2.11.1->tweepy>=3.7.0->konlpy) (2020.6.20)\n",
            "Requirement already satisfied: idna<3,>=2.5 in /usr/local/lib/python3.6/dist-packages (from requests[socks]>=2.11.1->tweepy>=3.7.0->konlpy) (2.10)\n",
            "Requirement already satisfied: PySocks!=1.5.7,>=1.5.6; extra == \"socks\" in /usr/local/lib/python3.6/dist-packages (from requests[socks]>=2.11.1->tweepy>=3.7.0->konlpy) (1.7.1)\n",
            "Requirement already satisfied: oauthlib>=3.0.0 in /usr/local/lib/python3.6/dist-packages (from requests-oauthlib>=0.7.0->tweepy>=3.7.0->konlpy) (3.1.0)\n",
            "Installing collected packages: JPype1, beautifulsoup4, tweepy, colorama, konlpy\n",
            "  Found existing installation: beautifulsoup4 4.6.3\n",
            "    Uninstalling beautifulsoup4-4.6.3:\n",
            "      Successfully uninstalled beautifulsoup4-4.6.3\n",
            "  Found existing installation: tweepy 3.6.0\n",
            "    Uninstalling tweepy-3.6.0:\n",
            "      Successfully uninstalled tweepy-3.6.0\n",
            "Successfully installed JPype1-1.0.1 beautifulsoup4-4.6.0 colorama-0.4.3 konlpy-0.5.2 tweepy-3.9.0\n"
          ],
          "name": "stdout"
        },
        {
          "output_type": "execute_result",
          "data": {
            "application/vnd.google.colaboratory.intrinsic+json": {
              "type": "string"
            },
            "text/plain": [
              "'0.5.2'"
            ]
          },
          "metadata": {
            "tags": []
          },
          "execution_count": 79
        }
      ]
    },
    {
      "cell_type": "code",
      "metadata": {
        "id": "SUNN7M4jceFj",
        "colab_type": "code",
        "colab": {
          "base_uri": "https://localhost:8080/",
          "height": 54
        },
        "outputId": "b549e08e-9ca0-4c85-8369-72b6cccb91cc"
      },
      "source": [
        "from konlpy.tag import Komoran\n",
        "\n",
        "Komoran = Komoran()\n",
        "print(Komoran.pos(u'마지막 수업인데 오늘은 조금만 할까요? ㅎㅎ'))"
      ],
      "execution_count": null,
      "outputs": [
        {
          "output_type": "stream",
          "text": [
            "[('마지막 수업', 'NNP'), ('이', 'VCP'), ('ㄴ데', 'EC'), ('오늘', 'NNG'), ('은', 'JX'), ('조금', 'NNG'), ('만', 'JX'), ('하', 'VX'), ('ㄹ까요', 'EF'), ('?', 'SF'), ('ㅎㅎ', 'NA')]\n"
          ],
          "name": "stdout"
        }
      ]
    },
    {
      "cell_type": "code",
      "metadata": {
        "id": "JbHYhZtCgrZ4",
        "colab_type": "code",
        "colab": {
          "base_uri": "https://localhost:8080/",
          "height": 54
        },
        "outputId": "ac29d6e2-2573-4d22-f527-42feaea199b6"
      },
      "source": [
        "from konlpy.tag import Okt\n",
        "\n",
        "okt = Okt()\n",
        "print(okt.pos(u'마지막 수업인데 오늘은 조금만 할까요? ㅎㅎ'))"
      ],
      "execution_count": null,
      "outputs": [
        {
          "output_type": "stream",
          "text": [
            "[('마지막', 'Noun'), ('수업', 'Noun'), ('인데', 'Josa'), ('오늘', 'Noun'), ('은', 'Josa'), ('조금', 'Noun'), ('만', 'Josa'), ('할까', 'Verb'), ('요', 'Noun'), ('?', 'Punctuation'), ('ㅎㅎ', 'KoreanParticle')]\n"
          ],
          "name": "stdout"
        }
      ]
    },
    {
      "cell_type": "code",
      "metadata": {
        "id": "1RZYzCTdcrF5",
        "colab_type": "code",
        "colab": {}
      },
      "source": [
        "import json\n",
        "import os\n",
        "from pprint import pprint\n",
        "\n",
        "def tokenize(doc):\n",
        "    # norm은 정규화, stem은 근어로 표시하기를 나타냄\n",
        "    return ['/'.join(t) for t in Komoran.pos(doc)]\n",
        "\n",
        "  "
      ],
      "execution_count": null,
      "outputs": []
    },
    {
      "cell_type": "code",
      "metadata": {
        "id": "71m2w9eNe1bM",
        "colab_type": "code",
        "colab": {}
      },
      "source": [
        "train_docs = [(tokenize(row[1]), row[2]) for row in train_data]\n",
        "test_docs = [(tokenize(row[1]), row[2]) for row in test_data]"
      ],
      "execution_count": null,
      "outputs": []
    },
    {
      "cell_type": "code",
      "metadata": {
        "id": "qbqolH6sistj",
        "colab_type": "code",
        "colab": {
          "base_uri": "https://localhost:8080/",
          "height": 34
        },
        "outputId": "e2d07088-7043-4caf-b14c-11fa663c88c8"
      },
      "source": [
        "test_docs[0]"
      ],
      "execution_count": null,
      "outputs": [
        {
          "output_type": "execute_result",
          "data": {
            "text/plain": [
              "(['굳/VV', 'ㅋ/NA'], '1')"
            ]
          },
          "metadata": {
            "tags": []
          },
          "execution_count": 9
        }
      ]
    },
    {
      "cell_type": "code",
      "metadata": {
        "id": "GWi0ZvEvijVH",
        "colab_type": "code",
        "colab": {
          "base_uri": "https://localhost:8080/",
          "height": 191
        },
        "outputId": "686c1773-5c49-4ee4-8a19-82a9d10a979d"
      },
      "source": [
        "# JSON 파일로 저장\n",
        "with open('train_docs_komoran.json', 'w', encoding=\"utf-8\") as make_file:\n",
        "    json.dump(train_docs, make_file, ensure_ascii=False, indent=\"\\t\")\n",
        "with open('test_docs_komoran.json', 'w', encoding=\"utf-8\") as make_file:\n",
        "    json.dump(test_docs, make_file, ensure_ascii=False, indent=\"\\t\")\n",
        "\n",
        "# 예쁘게(?) 출력하기 위해서 pprint 라이브러리 사용\n",
        "pprint(train_docs[0])\n"
      ],
      "execution_count": null,
      "outputs": [
        {
          "output_type": "stream",
          "text": [
            "(['아/IC',\n",
            "  '더빙/NNP',\n",
            "  './SF',\n",
            "  './SF',\n",
            "  '진짜/MAG',\n",
            "  '짜증/NNG',\n",
            "  '나/VV',\n",
            "  '네요/EC',\n",
            "  '목소리/NNG'],\n",
            " '0')\n"
          ],
          "name": "stdout"
        }
      ]
    },
    {
      "cell_type": "markdown",
      "metadata": {
        "id": "7ZX748A-lXAN",
        "colab_type": "text"
      },
      "source": [
        "분석한 데이터의 토큰(문자열을 분석을 위한 작은 단위)의 갯수를 확인해봅시다."
      ]
    },
    {
      "cell_type": "code",
      "metadata": {
        "id": "RKcs0ZJifGQe",
        "colab_type": "code",
        "colab": {
          "base_uri": "https://localhost:8080/",
          "height": 34
        },
        "outputId": "71c47526-a5cf-4505-a53d-7bc2437ae1f8"
      },
      "source": [
        "tokens = [t for d in train_docs for t in d[0]]\n",
        "print(len(tokens))"
      ],
      "execution_count": null,
      "outputs": [
        {
          "output_type": "stream",
          "text": [
            "2870289\n"
          ],
          "name": "stdout"
        }
      ]
    },
    {
      "cell_type": "markdown",
      "metadata": {
        "id": "XKpwpKMolQia",
        "colab_type": "text"
      },
      "source": [
        "이제 이 데이터를 nltk 라이브러리를 통해서 전처리를 해볼텐데요, Text 클래스는 문서를 편리하게 탐색할 수 있는 다양한 기능을 제공합니다."
      ]
    },
    {
      "cell_type": "code",
      "metadata": {
        "id": "8869YYkIhE9R",
        "colab_type": "code",
        "colab": {
          "base_uri": "https://localhost:8080/",
          "height": 34
        },
        "outputId": "b47c103f-5551-4c9b-ab6c-9a3c0bc01255"
      },
      "source": [
        "import nltk\n",
        "text = nltk.Text(tokens, name='NMSC')\n",
        "print(text)"
      ],
      "execution_count": null,
      "outputs": [
        {
          "output_type": "stream",
          "text": [
            "<Text: NMSC>\n"
          ],
          "name": "stdout"
        }
      ]
    },
    {
      "cell_type": "markdown",
      "metadata": {
        "id": "51_OWCBzlN55",
        "colab_type": "text"
      },
      "source": [
        "여기에서는 vocab().most_common 메서드를 이용해서 데이터에서 가장 자주 사용되는 단어를 가져올 때 사용하겠습니다."
      ]
    },
    {
      "cell_type": "code",
      "metadata": {
        "id": "FNGeSNitjISE",
        "colab_type": "code",
        "colab": {
          "base_uri": "https://localhost:8080/",
          "height": 226
        },
        "outputId": "18ea3c2f-8348-4144-957f-76ebafa3ed02"
      },
      "source": [
        "# 전체 토큰의 개수\n",
        "print(len(text.tokens))\n",
        "\n",
        "# 중복을 제외한 토큰의 개수\n",
        "print(len(set(text.tokens)))            \n",
        "\n",
        "# 출현 빈도가 높은 상위 토큰 10개\n",
        "pprint(text.vocab().most_common(10))"
      ],
      "execution_count": null,
      "outputs": [
        {
          "output_type": "stream",
          "text": [
            "2870289\n",
            "64912\n",
            "[('./SF', 113151),\n",
            " ('ㄴ/ETM', 61446),\n",
            " ('이/VCP', 47640),\n",
            " ('는/ETM', 43176),\n",
            " ('고/EC', 42394),\n",
            " ('보/VV', 40179),\n",
            " ('하/XSV', 40074),\n",
            " ('영화/NNG', 39720),\n",
            " ('이/JKS', 38174),\n",
            " ('하/XSA', 33021)]\n"
          ],
          "name": "stdout"
        }
      ]
    },
    {
      "cell_type": "markdown",
      "metadata": {
        "id": "PgttIP36lpoS",
        "colab_type": "text"
      },
      "source": [
        "이제 자주 사용되는 토큰 10000개를 사용해서 데이터를 벡터화를 시키겠습니다."
      ]
    },
    {
      "cell_type": "code",
      "metadata": {
        "id": "tBFbMgPSlnRa",
        "colab_type": "code",
        "colab": {
          "base_uri": "https://localhost:8080/",
          "height": 1000
        },
        "outputId": "dcdda028-1cf3-4f4f-ab7d-1c1b47f446a1"
      },
      "source": [
        "import matplotlib.pyplot as plt\n",
        "from matplotlib import font_manager, rc\n",
        "%matplotlib inline\n",
        "\n",
        "plt.figure(figsize=(20,10))\n",
        "text.plot(50)"
      ],
      "execution_count": null,
      "outputs": [
        {
          "output_type": "stream",
          "text": [
            "/usr/local/lib/python3.6/dist-packages/matplotlib/backends/backend_agg.py:214: RuntimeWarning: Glyph 12596 missing from current font.\n",
            "  font.set_text(s, 0.0, flags=flags)\n",
            "/usr/local/lib/python3.6/dist-packages/matplotlib/backends/backend_agg.py:214: RuntimeWarning: Glyph 51060 missing from current font.\n",
            "  font.set_text(s, 0.0, flags=flags)\n",
            "/usr/local/lib/python3.6/dist-packages/matplotlib/backends/backend_agg.py:214: RuntimeWarning: Glyph 45716 missing from current font.\n",
            "  font.set_text(s, 0.0, flags=flags)\n",
            "/usr/local/lib/python3.6/dist-packages/matplotlib/backends/backend_agg.py:214: RuntimeWarning: Glyph 44256 missing from current font.\n",
            "  font.set_text(s, 0.0, flags=flags)\n",
            "/usr/local/lib/python3.6/dist-packages/matplotlib/backends/backend_agg.py:214: RuntimeWarning: Glyph 48372 missing from current font.\n",
            "  font.set_text(s, 0.0, flags=flags)\n",
            "/usr/local/lib/python3.6/dist-packages/matplotlib/backends/backend_agg.py:214: RuntimeWarning: Glyph 54616 missing from current font.\n",
            "  font.set_text(s, 0.0, flags=flags)\n",
            "/usr/local/lib/python3.6/dist-packages/matplotlib/backends/backend_agg.py:214: RuntimeWarning: Glyph 50689 missing from current font.\n",
            "  font.set_text(s, 0.0, flags=flags)\n",
            "/usr/local/lib/python3.6/dist-packages/matplotlib/backends/backend_agg.py:214: RuntimeWarning: Glyph 54868 missing from current font.\n",
            "  font.set_text(s, 0.0, flags=flags)\n",
            "/usr/local/lib/python3.6/dist-packages/matplotlib/backends/backend_agg.py:214: RuntimeWarning: Glyph 50640 missing from current font.\n",
            "  font.set_text(s, 0.0, flags=flags)\n",
            "/usr/local/lib/python3.6/dist-packages/matplotlib/backends/backend_agg.py:214: RuntimeWarning: Glyph 51032 missing from current font.\n",
            "  font.set_text(s, 0.0, flags=flags)\n",
            "/usr/local/lib/python3.6/dist-packages/matplotlib/backends/backend_agg.py:214: RuntimeWarning: Glyph 46020 missing from current font.\n",
            "  font.set_text(s, 0.0, flags=flags)\n",
            "/usr/local/lib/python3.6/dist-packages/matplotlib/backends/backend_agg.py:214: RuntimeWarning: Glyph 50520 missing from current font.\n",
            "  font.set_text(s, 0.0, flags=flags)\n",
            "/usr/local/lib/python3.6/dist-packages/matplotlib/backends/backend_agg.py:214: RuntimeWarning: Glyph 44032 missing from current font.\n",
            "  font.set_text(s, 0.0, flags=flags)\n",
            "/usr/local/lib/python3.6/dist-packages/matplotlib/backends/backend_agg.py:214: RuntimeWarning: Glyph 44172 missing from current font.\n",
            "  font.set_text(s, 0.0, flags=flags)\n",
            "/usr/local/lib/python3.6/dist-packages/matplotlib/backends/backend_agg.py:214: RuntimeWarning: Glyph 45796 missing from current font.\n",
            "  font.set_text(s, 0.0, flags=flags)\n",
            "/usr/local/lib/python3.6/dist-packages/matplotlib/backends/backend_agg.py:214: RuntimeWarning: Glyph 50632 missing from current font.\n",
            "  font.set_text(s, 0.0, flags=flags)\n",
            "/usr/local/lib/python3.6/dist-packages/matplotlib/backends/backend_agg.py:214: RuntimeWarning: Glyph 51012 missing from current font.\n",
            "  font.set_text(s, 0.0, flags=flags)\n",
            "/usr/local/lib/python3.6/dist-packages/matplotlib/backends/backend_agg.py:214: RuntimeWarning: Glyph 12601 missing from current font.\n",
            "  font.set_text(s, 0.0, flags=flags)\n",
            "/usr/local/lib/python3.6/dist-packages/matplotlib/backends/backend_agg.py:214: RuntimeWarning: Glyph 50612 missing from current font.\n",
            "  font.set_text(s, 0.0, flags=flags)\n",
            "/usr/local/lib/python3.6/dist-packages/matplotlib/backends/backend_agg.py:214: RuntimeWarning: Glyph 46308 missing from current font.\n",
            "  font.set_text(s, 0.0, flags=flags)\n",
            "/usr/local/lib/python3.6/dist-packages/matplotlib/backends/backend_agg.py:214: RuntimeWarning: Glyph 51008 missing from current font.\n",
            "  font.set_text(s, 0.0, flags=flags)\n",
            "/usr/local/lib/python3.6/dist-packages/matplotlib/backends/backend_agg.py:214: RuntimeWarning: Glyph 47484 missing from current font.\n",
            "  font.set_text(s, 0.0, flags=flags)\n",
            "/usr/local/lib/python3.6/dist-packages/matplotlib/backends/backend_agg.py:214: RuntimeWarning: Glyph 12609 missing from current font.\n",
            "  font.set_text(s, 0.0, flags=flags)\n",
            "/usr/local/lib/python3.6/dist-packages/matplotlib/backends/backend_agg.py:214: RuntimeWarning: Glyph 50500 missing from current font.\n",
            "  font.set_text(s, 0.0, flags=flags)\n",
            "/usr/local/lib/python3.6/dist-packages/matplotlib/backends/backend_agg.py:214: RuntimeWarning: Glyph 50630 missing from current font.\n",
            "  font.set_text(s, 0.0, flags=flags)\n",
            "/usr/local/lib/python3.6/dist-packages/matplotlib/backends/backend_agg.py:214: RuntimeWarning: Glyph 51648 missing from current font.\n",
            "  font.set_text(s, 0.0, flags=flags)\n",
            "/usr/local/lib/python3.6/dist-packages/matplotlib/backends/backend_agg.py:214: RuntimeWarning: Glyph 51339 missing from current font.\n",
            "  font.set_text(s, 0.0, flags=flags)\n",
            "/usr/local/lib/python3.6/dist-packages/matplotlib/backends/backend_agg.py:214: RuntimeWarning: Glyph 45320 missing from current font.\n",
            "  font.set_text(s, 0.0, flags=flags)\n",
            "/usr/local/lib/python3.6/dist-packages/matplotlib/backends/backend_agg.py:214: RuntimeWarning: Glyph 47924 missing from current font.\n",
            "  font.set_text(s, 0.0, flags=flags)\n",
            "/usr/local/lib/python3.6/dist-packages/matplotlib/backends/backend_agg.py:214: RuntimeWarning: Glyph 44163 missing from current font.\n",
            "  font.set_text(s, 0.0, flags=flags)\n",
            "/usr/local/lib/python3.6/dist-packages/matplotlib/backends/backend_agg.py:214: RuntimeWarning: Glyph 45936 missing from current font.\n",
            "  font.set_text(s, 0.0, flags=flags)\n",
            "/usr/local/lib/python3.6/dist-packages/matplotlib/backends/backend_agg.py:214: RuntimeWarning: Glyph 51080 missing from current font.\n",
            "  font.set_text(s, 0.0, flags=flags)\n",
            "/usr/local/lib/python3.6/dist-packages/matplotlib/backends/backend_agg.py:214: RuntimeWarning: Glyph 51452 missing from current font.\n",
            "  font.set_text(s, 0.0, flags=flags)\n",
            "/usr/local/lib/python3.6/dist-packages/matplotlib/backends/backend_agg.py:214: RuntimeWarning: Glyph 44592 missing from current font.\n",
            "  font.set_text(s, 0.0, flags=flags)\n",
            "/usr/local/lib/python3.6/dist-packages/matplotlib/backends/backend_agg.py:214: RuntimeWarning: Glyph 51004 missing from current font.\n",
            "  font.set_text(s, 0.0, flags=flags)\n",
            "/usr/local/lib/python3.6/dist-packages/matplotlib/backends/backend_agg.py:214: RuntimeWarning: Glyph 47196 missing from current font.\n",
            "  font.set_text(s, 0.0, flags=flags)\n",
            "/usr/local/lib/python3.6/dist-packages/matplotlib/backends/backend_agg.py:214: RuntimeWarning: Glyph 51201 missing from current font.\n",
            "  font.set_text(s, 0.0, flags=flags)\n",
            "/usr/local/lib/python3.6/dist-packages/matplotlib/backends/backend_agg.py:214: RuntimeWarning: Glyph 51216 missing from current font.\n",
            "  font.set_text(s, 0.0, flags=flags)\n",
            "/usr/local/lib/python3.6/dist-packages/matplotlib/backends/backend_agg.py:214: RuntimeWarning: Glyph 47564 missing from current font.\n",
            "  font.set_text(s, 0.0, flags=flags)\n",
            "/usr/local/lib/python3.6/dist-packages/matplotlib/backends/backend_agg.py:183: RuntimeWarning: Glyph 12596 missing from current font.\n",
            "  font.set_text(s, 0, flags=flags)\n",
            "/usr/local/lib/python3.6/dist-packages/matplotlib/backends/backend_agg.py:183: RuntimeWarning: Glyph 51060 missing from current font.\n",
            "  font.set_text(s, 0, flags=flags)\n",
            "/usr/local/lib/python3.6/dist-packages/matplotlib/backends/backend_agg.py:183: RuntimeWarning: Glyph 45716 missing from current font.\n",
            "  font.set_text(s, 0, flags=flags)\n",
            "/usr/local/lib/python3.6/dist-packages/matplotlib/backends/backend_agg.py:183: RuntimeWarning: Glyph 44256 missing from current font.\n",
            "  font.set_text(s, 0, flags=flags)\n",
            "/usr/local/lib/python3.6/dist-packages/matplotlib/backends/backend_agg.py:183: RuntimeWarning: Glyph 48372 missing from current font.\n",
            "  font.set_text(s, 0, flags=flags)\n",
            "/usr/local/lib/python3.6/dist-packages/matplotlib/backends/backend_agg.py:183: RuntimeWarning: Glyph 54616 missing from current font.\n",
            "  font.set_text(s, 0, flags=flags)\n",
            "/usr/local/lib/python3.6/dist-packages/matplotlib/backends/backend_agg.py:183: RuntimeWarning: Glyph 50689 missing from current font.\n",
            "  font.set_text(s, 0, flags=flags)\n",
            "/usr/local/lib/python3.6/dist-packages/matplotlib/backends/backend_agg.py:183: RuntimeWarning: Glyph 54868 missing from current font.\n",
            "  font.set_text(s, 0, flags=flags)\n",
            "/usr/local/lib/python3.6/dist-packages/matplotlib/backends/backend_agg.py:183: RuntimeWarning: Glyph 50640 missing from current font.\n",
            "  font.set_text(s, 0, flags=flags)\n",
            "/usr/local/lib/python3.6/dist-packages/matplotlib/backends/backend_agg.py:183: RuntimeWarning: Glyph 51032 missing from current font.\n",
            "  font.set_text(s, 0, flags=flags)\n",
            "/usr/local/lib/python3.6/dist-packages/matplotlib/backends/backend_agg.py:183: RuntimeWarning: Glyph 46020 missing from current font.\n",
            "  font.set_text(s, 0, flags=flags)\n",
            "/usr/local/lib/python3.6/dist-packages/matplotlib/backends/backend_agg.py:183: RuntimeWarning: Glyph 50520 missing from current font.\n",
            "  font.set_text(s, 0, flags=flags)\n",
            "/usr/local/lib/python3.6/dist-packages/matplotlib/backends/backend_agg.py:183: RuntimeWarning: Glyph 44032 missing from current font.\n",
            "  font.set_text(s, 0, flags=flags)\n",
            "/usr/local/lib/python3.6/dist-packages/matplotlib/backends/backend_agg.py:183: RuntimeWarning: Glyph 44172 missing from current font.\n",
            "  font.set_text(s, 0, flags=flags)\n",
            "/usr/local/lib/python3.6/dist-packages/matplotlib/backends/backend_agg.py:183: RuntimeWarning: Glyph 45796 missing from current font.\n",
            "  font.set_text(s, 0, flags=flags)\n",
            "/usr/local/lib/python3.6/dist-packages/matplotlib/backends/backend_agg.py:183: RuntimeWarning: Glyph 50632 missing from current font.\n",
            "  font.set_text(s, 0, flags=flags)\n",
            "/usr/local/lib/python3.6/dist-packages/matplotlib/backends/backend_agg.py:183: RuntimeWarning: Glyph 51012 missing from current font.\n",
            "  font.set_text(s, 0, flags=flags)\n",
            "/usr/local/lib/python3.6/dist-packages/matplotlib/backends/backend_agg.py:183: RuntimeWarning: Glyph 12601 missing from current font.\n",
            "  font.set_text(s, 0, flags=flags)\n",
            "/usr/local/lib/python3.6/dist-packages/matplotlib/backends/backend_agg.py:183: RuntimeWarning: Glyph 50612 missing from current font.\n",
            "  font.set_text(s, 0, flags=flags)\n",
            "/usr/local/lib/python3.6/dist-packages/matplotlib/backends/backend_agg.py:183: RuntimeWarning: Glyph 46308 missing from current font.\n",
            "  font.set_text(s, 0, flags=flags)\n",
            "/usr/local/lib/python3.6/dist-packages/matplotlib/backends/backend_agg.py:183: RuntimeWarning: Glyph 51008 missing from current font.\n",
            "  font.set_text(s, 0, flags=flags)\n",
            "/usr/local/lib/python3.6/dist-packages/matplotlib/backends/backend_agg.py:183: RuntimeWarning: Glyph 47484 missing from current font.\n",
            "  font.set_text(s, 0, flags=flags)\n",
            "/usr/local/lib/python3.6/dist-packages/matplotlib/backends/backend_agg.py:183: RuntimeWarning: Glyph 12609 missing from current font.\n",
            "  font.set_text(s, 0, flags=flags)\n",
            "/usr/local/lib/python3.6/dist-packages/matplotlib/backends/backend_agg.py:183: RuntimeWarning: Glyph 50500 missing from current font.\n",
            "  font.set_text(s, 0, flags=flags)\n",
            "/usr/local/lib/python3.6/dist-packages/matplotlib/backends/backend_agg.py:183: RuntimeWarning: Glyph 50630 missing from current font.\n",
            "  font.set_text(s, 0, flags=flags)\n",
            "/usr/local/lib/python3.6/dist-packages/matplotlib/backends/backend_agg.py:183: RuntimeWarning: Glyph 51648 missing from current font.\n",
            "  font.set_text(s, 0, flags=flags)\n",
            "/usr/local/lib/python3.6/dist-packages/matplotlib/backends/backend_agg.py:183: RuntimeWarning: Glyph 51339 missing from current font.\n",
            "  font.set_text(s, 0, flags=flags)\n",
            "/usr/local/lib/python3.6/dist-packages/matplotlib/backends/backend_agg.py:183: RuntimeWarning: Glyph 45320 missing from current font.\n",
            "  font.set_text(s, 0, flags=flags)\n",
            "/usr/local/lib/python3.6/dist-packages/matplotlib/backends/backend_agg.py:183: RuntimeWarning: Glyph 47924 missing from current font.\n",
            "  font.set_text(s, 0, flags=flags)\n",
            "/usr/local/lib/python3.6/dist-packages/matplotlib/backends/backend_agg.py:183: RuntimeWarning: Glyph 44163 missing from current font.\n",
            "  font.set_text(s, 0, flags=flags)\n",
            "/usr/local/lib/python3.6/dist-packages/matplotlib/backends/backend_agg.py:183: RuntimeWarning: Glyph 45936 missing from current font.\n",
            "  font.set_text(s, 0, flags=flags)\n",
            "/usr/local/lib/python3.6/dist-packages/matplotlib/backends/backend_agg.py:183: RuntimeWarning: Glyph 51080 missing from current font.\n",
            "  font.set_text(s, 0, flags=flags)\n",
            "/usr/local/lib/python3.6/dist-packages/matplotlib/backends/backend_agg.py:183: RuntimeWarning: Glyph 51452 missing from current font.\n",
            "  font.set_text(s, 0, flags=flags)\n",
            "/usr/local/lib/python3.6/dist-packages/matplotlib/backends/backend_agg.py:183: RuntimeWarning: Glyph 44592 missing from current font.\n",
            "  font.set_text(s, 0, flags=flags)\n",
            "/usr/local/lib/python3.6/dist-packages/matplotlib/backends/backend_agg.py:183: RuntimeWarning: Glyph 51004 missing from current font.\n",
            "  font.set_text(s, 0, flags=flags)\n",
            "/usr/local/lib/python3.6/dist-packages/matplotlib/backends/backend_agg.py:183: RuntimeWarning: Glyph 47196 missing from current font.\n",
            "  font.set_text(s, 0, flags=flags)\n",
            "/usr/local/lib/python3.6/dist-packages/matplotlib/backends/backend_agg.py:183: RuntimeWarning: Glyph 51201 missing from current font.\n",
            "  font.set_text(s, 0, flags=flags)\n",
            "/usr/local/lib/python3.6/dist-packages/matplotlib/backends/backend_agg.py:183: RuntimeWarning: Glyph 51216 missing from current font.\n",
            "  font.set_text(s, 0, flags=flags)\n",
            "/usr/local/lib/python3.6/dist-packages/matplotlib/backends/backend_agg.py:183: RuntimeWarning: Glyph 47564 missing from current font.\n",
            "  font.set_text(s, 0, flags=flags)\n"
          ],
          "name": "stderr"
        },
        {
          "output_type": "display_data",
          "data": {
            "image/png": "[encoded data removed]",
            "text/plain": [
              "<Figure size 1440x720 with 1 Axes>"
            ]
          },
          "metadata": {
            "tags": [],
            "needs_background": "light"
          }
        }
      ]
    },
    {
      "cell_type": "markdown",
      "metadata": {
        "id": "s5BJisi9lIQ5",
        "colab_type": "text"
      },
      "source": [
        "이제 자주 사용되는 토큰 10000개를 사용해서 데이터를 벡터화를 시키겠습니다.\n",
        "\n",
        "여기서는 원 핫 인코딩 대신에 CountVectorization을 사용했습니다.\n",
        "\n",
        "이는 문서 집합에서 단어 토큰을 생성하고 각 단어의 수를 세어 BOW(Bag of Words) 인코딩한 벡터를 만드는 역할을 합니다."
      ]
    },
    {
      "cell_type": "code",
      "metadata": {
        "id": "HkR91eMdjMZa",
        "colab_type": "code",
        "colab": {}
      },
      "source": [
        "selected_words = [f[0] for f in text.vocab().most_common(9999)]\n",
        "\n",
        "def term_frequency(doc):\n",
        "    return [doc.count(word) for word in selected_words]\n",
        "\n",
        "train_x = [term_frequency(d) for d, _ in train_docs]\n",
        "test_x = [term_frequency(d) for d, _ in test_docs]\n",
        "train_y = [c for _, c in train_docs]\n",
        "test_y = [c for _, c in test_docs]"
      ],
      "execution_count": null,
      "outputs": []
    },
    {
      "cell_type": "code",
      "metadata": {
        "id": "GhUxwNXXkyVZ",
        "colab_type": "code",
        "colab": {}
      },
      "source": [
        "selected_words = [f[0] for f in text.vocab().most_common(9999)]\n",
        "\n",
        "#train data\n",
        "train_x = []\n",
        "for i in range(len(train_docs)):\n",
        "    _ = []\n",
        "    for word in train_docs[i][0] :\n",
        "        try : \n",
        "            _.append(selected_words.index(word))\n",
        "        except :\n",
        "            _.append(9999)\n",
        "    train_x.append(_)\n",
        "    \n",
        "#test data\n",
        "test_x = []\n",
        "for i in range(len(test_docs)):\n",
        "    _ = []\n",
        "    for word in test_docs[i][0] :\n",
        "        try : \n",
        "            _.append(selected_words.index(word))\n",
        "        except :\n",
        "            _.append(9999)\n",
        "    test_x.append(_)"
      ],
      "execution_count": null,
      "outputs": []
    },
    {
      "cell_type": "code",
      "metadata": {
        "id": "Mse1hi6SlzyE",
        "colab_type": "code",
        "colab": {}
      },
      "source": [
        "selected_words.append('***/') # 10000위 안에 들지 못하는 단어들은 모두 ***라고 표기함"
      ],
      "execution_count": null,
      "outputs": []
    },
    {
      "cell_type": "code",
      "metadata": {
        "id": "XOFsuo51l-oc",
        "colab_type": "code",
        "colab": {}
      },
      "source": [
        "selected_words[9999]"
      ],
      "execution_count": null,
      "outputs": []
    },
    {
      "cell_type": "code",
      "metadata": {
        "id": "2zn2E50Nl4sf",
        "colab_type": "code",
        "colab": {}
      },
      "source": [
        "import pickle\n",
        "\n",
        "with open(\"nsmc_selected_words_komoran.txt\", \"wb\") as fp:\n",
        "    pickle.dump(selected_words, fp)  \n",
        "with open(\"nsmc_train_x_komoran.txt\", \"wb\") as fp:\n",
        "    pickle.dump(train_x, fp)\n",
        "with open(\"nsmc_test_x_komoran.txt\", \"wb\") as fp:\n",
        "    pickle.dump(test_x, fp)\n",
        "with open(\"nsmc_train_y_komoran.txt\", \"wb\") as fp:\n",
        "    pickle.dump(train_y, fp)\n",
        "with open(\"nsmc_test_y_komoran.txt\", \"wb\") as fp:\n",
        "    pickle.dump(test_y, fp)"
      ],
      "execution_count": null,
      "outputs": []
    },
    {
      "cell_type": "markdown",
      "metadata": {
        "id": "chfaH7zHmD87",
        "colab_type": "text"
      },
      "source": [
        "# Open pre-processing data"
      ]
    },
    {
      "cell_type": "code",
      "metadata": {
        "id": "5cFKbp_MmSFc",
        "colab_type": "code",
        "colab": {}
      },
      "source": [
        "import pickle\n",
        "import numpy as np\n",
        "#load \n",
        "with open(\"nsmc_train_x.txt\", \"rb\") as fp:\n",
        "    X_train = pickle.load(fp)\n",
        "with open(\"nsmc_test_x.txt\", \"rb\") as fp:\n",
        "    X_test = pickle.load(fp)\n",
        "with open(\"nsmc_train_y.txt\", \"rb\") as fp:\n",
        "    train_y = pickle.load(fp)\n",
        "with open(\"nsmc_test_y.txt\", \"rb\") as fp:\n",
        "    test_y = pickle.load(fp)\n",
        "with open(\"nsmc_selected_words.txt\", \"rb\") as fp:\n",
        "    selected_words_10000 = pickle.load(fp)"
      ],
      "execution_count": null,
      "outputs": []
    },
    {
      "cell_type": "markdown",
      "metadata": {
        "id": "wNJxzVf6mVoW",
        "colab_type": "text"
      },
      "source": [
        "# LSTM Training"
      ]
    },
    {
      "cell_type": "code",
      "metadata": {
        "id": "yFXCd4iBmVVu",
        "colab_type": "code",
        "colab": {}
      },
      "source": [
        "import numpy as np\n",
        "import keras\n",
        "\n",
        "from keras.preprocessing.text import Tokenizer\n",
        "from keras.preprocessing.sequence import pad_sequences\n",
        "from keras.preprocessing import sequence\n",
        "from keras.models import Sequential\n",
        "from keras.layers import Dense, Dropout, Embedding, LSTM, Bidirectional\n",
        "from keras.models import Model, load_model\n",
        "\n",
        "import matplotlib.pyplot as plt\n",
        "from IPython.display import display, HTML\n",
        "\n",
        "from numpy import newaxis as na"
      ],
      "execution_count": null,
      "outputs": []
    },
    {
      "cell_type": "code",
      "metadata": {
        "id": "qIH4TbVymaMT",
        "colab_type": "code",
        "colab": {}
      },
      "source": [
        "max_features = 10000\n",
        "maxlen = 100\n",
        "batch_size = 1024"
      ],
      "execution_count": null,
      "outputs": []
    },
    {
      "cell_type": "code",
      "metadata": {
        "id": "sZykEMYSmbqA",
        "colab_type": "code",
        "colab": {}
      },
      "source": [
        "# One-hot encoding the output >> \n",
        "num_classes = 2\n",
        "y_train = keras.utils.to_categorical(train_y, num_classes)\n",
        "y_test = keras.utils.to_categorical(test_y, num_classes)"
      ],
      "execution_count": null,
      "outputs": []
    },
    {
      "cell_type": "code",
      "metadata": {
        "id": "wy5fpBuUmdGy",
        "colab_type": "code",
        "colab": {
          "base_uri": "https://localhost:8080/",
          "height": 69
        },
        "outputId": "c6d11f42-196c-44ce-8f8a-36a256520a44"
      },
      "source": [
        "print('훈련 데이터: {}'.format(len(X_train)))\n",
        "print('테스트 데이터: {}'.format(len(X_test)))\n",
        "print('카테고리: {}'.format(num_classes))"
      ],
      "execution_count": null,
      "outputs": [
        {
          "output_type": "stream",
          "text": [
            "훈련 데이터: 150000\n",
            "테스트 데이터: 50000\n",
            "카테고리: 2\n"
          ],
          "name": "stdout"
        }
      ]
    },
    {
      "cell_type": "code",
      "metadata": {
        "id": "fHN3sbbjme0U",
        "colab_type": "code",
        "colab": {
          "base_uri": "https://localhost:8080/",
          "height": 280
        },
        "outputId": "ff655f85-f8b0-4e4c-db48-18face0cc6c1"
      },
      "source": [
        "plt.hist([len(s) for s in X_train], bins=50)\n",
        "plt.xlabel('length of Data')\n",
        "plt.ylabel('number of Data')\n",
        "plt.show()"
      ],
      "execution_count": null,
      "outputs": [
        {
          "output_type": "display_data",
          "data": {
            "image/png": "[encoded data removed]",
            "text/plain": [
              "<Figure size 432x288 with 1 Axes>"
            ]
          },
          "metadata": {
            "tags": [],
            "needs_background": "light"
          }
        }
      ]
    },
    {
      "cell_type": "markdown",
      "metadata": {
        "id": "20sl3bhgnKmU",
        "colab_type": "text"
      },
      "source": [
        "입력 문장의 길이가 서로 달라서 max_len보다 긴 문장은 max_len까지 자르고, max_len보다 짧은 문장은 max_len까지 0으로 채움\n",
        "\n",
        "max_len값을 결정하기 위해 전체 데이터의 길이 분포를 고려"
      ]
    },
    {
      "cell_type": "code",
      "metadata": {
        "id": "OGKx2iGSmgJe",
        "colab_type": "code",
        "colab": {}
      },
      "source": [
        "maxlen = 30\n",
        "x_train = sequence.pad_sequences(X_train, maxlen) # 길이 잘라줌\n",
        "x_test = sequence.pad_sequences(X_test, maxlen)"
      ],
      "execution_count": null,
      "outputs": []
    },
    {
      "cell_type": "markdown",
      "metadata": {
        "id": "EBcj4cwFHGEp",
        "colab_type": "text"
      },
      "source": [
        "![image.png](data:image/png;base64,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)"
      ]
    },
    {
      "cell_type": "code",
      "metadata": {
        "id": "m43skCIumiNL",
        "colab_type": "code",
        "colab": {
          "base_uri": "https://localhost:8080/",
          "height": 278
        },
        "outputId": "a683543c-9bb8-4ea0-efb6-f323d1c2c35c"
      },
      "source": [
        "model = Sequential()\n",
        "model.add(Embedding(max_features, 128))\n",
        "model.add(LSTM(128, dropout=0.2, recurrent_dropout=0.2))\n",
        "model.add(Dense(num_classes, activation='sigmoid'))\n",
        "\n",
        "model.summary()"
      ],
      "execution_count": null,
      "outputs": [
        {
          "output_type": "stream",
          "text": [
            "WARNING:tensorflow:Layer lstm will not use cuDNN kernel since it doesn't meet the cuDNN kernel criteria. It will use generic GPU kernel as fallback when running on GPU\n",
            "Model: \"sequential\"\n",
            "_________________________________________________________________\n",
            "Layer (type)                 Output Shape              Param #   \n",
            "=================================================================\n",
            "embedding (Embedding)        (None, None, 128)         1280000   \n",
            "_________________________________________________________________\n",
            "lstm (LSTM)                  (None, 128)               131584    \n",
            "_________________________________________________________________\n",
            "dense (Dense)                (None, 2)                 258       \n",
            "=================================================================\n",
            "Total params: 1,411,842\n",
            "Trainable params: 1,411,842\n",
            "Non-trainable params: 0\n",
            "_________________________________________________________________\n"
          ],
          "name": "stdout"
        }
      ]
    },
    {
      "cell_type": "code",
      "metadata": {
        "id": "D5TcLs7kmnl-",
        "colab_type": "code",
        "colab": {
          "base_uri": "https://localhost:8080/",
          "height": 156
        },
        "outputId": "c04f1c91-7569-4fac-a77a-3dcaf8126df6"
      },
      "source": [
        "# try using different optimizers and different optimizer configs\n",
        "model.compile('adam', 'binary_crossentropy', metrics=['accuracy'])\n",
        "\n",
        "print('Train...')\n",
        "model.fit(x_train, y_train,\n",
        "          batch_size=batch_size,\n",
        "          epochs=3)"
      ],
      "execution_count": null,
      "outputs": [
        {
          "output_type": "stream",
          "text": [
            "Train...\n",
            "Epoch 1/3\n",
            "147/147 [==============================] - 21s 146ms/step - loss: 0.4459 - accuracy: 0.7921\n",
            "Epoch 2/3\n",
            "147/147 [==============================] - 22s 148ms/step - loss: 0.3245 - accuracy: 0.8591\n",
            "Epoch 3/3\n",
            "147/147 [==============================] - 21s 144ms/step - loss: 0.3057 - accuracy: 0.8677\n"
          ],
          "name": "stdout"
        },
        {
          "output_type": "execute_result",
          "data": {
            "text/plain": [
              "<tensorflow.python.keras.callbacks.History at 0x7ff7cc1a4f28>"
            ]
          },
          "metadata": {
            "tags": []
          },
          "execution_count": 14
        }
      ]
    },
    {
      "cell_type": "code",
      "metadata": {
        "id": "1sPtGXFloj2_",
        "colab_type": "code",
        "colab": {
          "base_uri": "https://localhost:8080/",
          "height": 52
        },
        "outputId": "25d09dc0-4dc7-4eda-c3e3-6a30ea51adbd"
      },
      "source": [
        "model.evaluate(x_test, y_test)"
      ],
      "execution_count": null,
      "outputs": [
        {
          "output_type": "stream",
          "text": [
            "1563/1563 [==============================] - 16s 10ms/step - loss: 0.3437 - accuracy: 0.8462\n"
          ],
          "name": "stdout"
        },
        {
          "output_type": "execute_result",
          "data": {
            "text/plain": [
              "[0.3437347710132599, 0.8461599946022034]"
            ]
          },
          "metadata": {
            "tags": []
          },
          "execution_count": 19
        }
      ]
    },
    {
      "cell_type": "markdown",
      "metadata": {
        "id": "ipdpH_WbmpAE",
        "colab_type": "text"
      },
      "source": [
        "# LRP & Visualization"
      ]
    },
    {
      "cell_type": "markdown",
      "metadata": {
        "id": "V-VkiwMXhDGZ",
        "colab_type": "text"
      },
      "source": [
        "![image.png](data:image/png;base64,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)"
      ]
    },
    {
      "cell_type": "markdown",
      "metadata": {
        "id": "IiHP0J7JhZn1",
        "colab_type": "text"
      },
      "source": [
        "입력 데이터 관점에서 분류 결과 뿐만 아니라 결정에 영향을 미치는 구조 설명"
      ]
    },
    {
      "cell_type": "markdown",
      "metadata": {
        "id": "AmHp8NJ8g0B_",
        "colab_type": "text"
      },
      "source": [
        "Layer-wise: 레이어단위로\n",
        "\n",
        "Relevance: 결과에 영량을 주는 관련성을 구하는\n",
        "\n",
        "Propagation: 역전파 기술"
      ]
    },
    {
      "cell_type": "markdown",
      "metadata": {
        "id": "8b5s4nBCh0cM",
        "colab_type": "text"
      },
      "source": [
        "아래 공개된 코드는 학습된 가중치를 불러와 LRP에 적용, 코드가 복잡해 커스터마이증 어려움\n"
      ]
    },
    {
      "cell_type": "code",
      "metadata": {
        "id": "2wpQBcqimsSE",
        "colab_type": "code",
        "colab": {}
      },
      "source": [
        "def html_heatmap (words, scores, cmap_name=\"bwr\"):\n",
        "    \"\"\"\n",
        "    Return word-level heatmap in HTML format,\n",
        "    with words being the list of words (as string),\n",
        "    scores the corresponding list of word-level relevance values,\n",
        "    and cmap_name the name of the matplotlib diverging colormap.\n",
        "    \"\"\"\n",
        "    \n",
        "    colormap  = plt.get_cmap(cmap_name)\n",
        "     \n",
        "    #assert len(words)==len(scores)\n",
        "    max_s     = max(scores)\n",
        "    min_s     = min(scores)\n",
        "    \n",
        "    output_text = \"\"\n",
        "    \n",
        "    for idx, w in enumerate(words):\n",
        "        score       = rescale_score_by_abs(scores[idx], max_s, min_s)\n",
        "        output_text = output_text + span_word(w, score, colormap) + \" \"\n",
        "    \n",
        "    return output_text + \"\\n\"\n",
        "\n",
        "def rescale_score_by_abs (score, max_score, min_score):\n",
        "    \"\"\"\n",
        "    Normalize the relevance value (=score), accordingly to the extremal relevance values (max_score and min_score), \n",
        "    for visualization with a diverging colormap.\n",
        "    i.e. rescale positive relevance to the range [0.5, 1.0], and negative relevance to the range [0.0, 0.5],\n",
        "    using the highest absolute relevance for linear interpolation.\n",
        "    \"\"\"\n",
        "    \n",
        "    # CASE 1: positive AND negative scores occur --------------------\n",
        "    if max_score>0 and min_score<0:\n",
        "    \n",
        "        if max_score >= abs(min_score):   # deepest color is positive\n",
        "            if score>=0:\n",
        "                return 0.5 + 0.5*(score/max_score)\n",
        "            else:\n",
        "                return 0.5 - 0.5*(abs(score)/max_score)\n",
        "\n",
        "        else:                             # deepest color is negative\n",
        "            if score>=0:\n",
        "                return 0.5 + 0.5*(score/abs(min_score))\n",
        "            else:\n",
        "                return 0.5 - 0.5*(score/min_score)   \n",
        "    \n",
        "    # CASE 2: ONLY positive scores occur -----------------------------       \n",
        "    elif max_score>0 and min_score>=0: \n",
        "        if max_score == min_score:\n",
        "            return 1.0\n",
        "        else:\n",
        "            return 0.5 + 0.5*(score/max_score)\n",
        "    \n",
        "    # CASE 3: ONLY negative scores occur -----------------------------\n",
        "    elif max_score<=0 and min_score<0: \n",
        "        if max_score == min_score:\n",
        "            return 0.0\n",
        "        else:\n",
        "            return 0.5 - 0.5*(score/min_score)\n",
        "          \n",
        "\n",
        "def getRGB (c_tuple):\n",
        "    return \"#%02x%02x%02x\"%(int(c_tuple[0]*255), int(c_tuple[1]*255), int(c_tuple[2]*255))\n",
        "\n",
        "     \n",
        "def span_word (word, score, colormap):\n",
        "    return \"<span style=\\\"background-color:\"+getRGB(colormap(score))+\"\\\">\"+word+\"</span>\""
      ],
      "execution_count": null,
      "outputs": []
    },
    {
      "cell_type": "code",
      "metadata": {
        "id": "4xpOF8FBnFzb",
        "colab_type": "code",
        "colab": {}
      },
      "source": [
        "class LRP4LSTM(object):\n",
        "    def __init__(self, model):\n",
        "        self.model = model\n",
        "        \n",
        "        names = [weight.name for layer in model.layers for weight in layer.weights]\n",
        "        print(names)\n",
        "        weights = model.get_weights()\n",
        "        # suppress scientific notation\n",
        "        # ['embedding/embeddings:0', 'lstm/lstm_cell/kernel:0', 'lstm/lstm_cell/recurrent_kernel:0', 'lstm/lstm_cell/bias:0', 'dense/kernel:0', 'dense/bias:0']\n",
        "        np.set_printoptions(suppress=True)\n",
        "        for name, weight in zip(names, weights):\n",
        "            if name == 'lstm/lstm_cell/kernel:0':\n",
        "                kernel_0 = weight\n",
        "            if name == 'lstm/lstm_cell/recurrent_kernel:0':\n",
        "                recurrent_kernel_0 = weight\n",
        "            if name == 'lstm/lstm_cell/bias:0':\n",
        "                bias_0 = weight\n",
        "            elif name == 'dense/kernel:0':\n",
        "                output = weight\n",
        "\n",
        "\n",
        "        print(\"kernel_0\", kernel_0.shape)\n",
        "        print(\"recurrent_kernel_0\", recurrent_kernel_0.shape)\n",
        "        print(\"bias_0\", bias_0.shape)\n",
        "        print(\"output\", output.shape)\n",
        "\n",
        "        # self.Wxh_Left (240, 60)\n",
        "        # self.Whh_Left (240, 60)\n",
        "        # self.bxh_Left (240,)\n",
        "        # self.Why_Left (5, 60)\n",
        "\n",
        "        self.Wxh = kernel_0.T  # shape 4d*e\n",
        "        self.Whh = recurrent_kernel_0.T  # shape 4d\n",
        "        self.bxh = bias_0.T  # shape 4d \n",
        "        self.Why = output.T\n",
        "        \n",
        "    def lrp_linear(self, hin, w, b, hout, Rout, bias_nb_units, eps, bias_factor=1.0, debug=False):\n",
        "        \"\"\"\n",
        "        LRP for a linear layer with input dim D and output dim M.\n",
        "        Args:\n",
        "        - hin:            forward pass input, of shape (D,)\n",
        "        - w:              connection weights, of shape (D, M)\n",
        "        - b:              biases, of shape (M,)\n",
        "        - hout:           forward pass output, of shape (M,) (unequal to np.dot(w.T,hin)+b if more than one incoming layer!)\n",
        "        - Rout:           relevance at layer output, of shape (M,)\n",
        "        - bias_nb_units:  total number of connected lower-layer units (onto which the bias/stabilizer contribution is redistributed for sanity check)\n",
        "        - eps:            stabilizer (small positive number)\n",
        "        - bias_factor:    set to 1.0 to check global relevance conservation, otherwise use 0.0 to ignore bias/stabilizer redistribution (recommended)\n",
        "        Returns:\n",
        "        - Rin:            relevance at layer input, of shape (D,)\n",
        "        \"\"\"\n",
        "        sign_out = np.where(hout[na,:]>=0, 1., -1.) # shape (1, M)\n",
        "\n",
        "        numer    = (w * hin[:,na]) + ( bias_factor * (b[na,:]*1. + eps*sign_out*1.) / bias_nb_units ) # shape (D, M)\n",
        "        # Note: here we multiply the bias_factor with both the bias b and the stabilizer eps since in fact\n",
        "        # using the term (b[na,:]*1. + eps*sign_out*1.) / bias_nb_units in the numerator is only useful for sanity check\n",
        "        # (in the initial paper version we were using (bias_factor*b[na,:]*1. + eps*sign_out*1.) / bias_nb_units instead)\n",
        "\n",
        "        denom    = hout[na,:] + (eps*sign_out*1.)   # shape (1, M)\n",
        "\n",
        "        message  = (numer/denom) * Rout[na,:]       # shape (D, M)\n",
        "\n",
        "        Rin      = message.sum(axis=1)              # shape (D,)\n",
        "\n",
        "        if debug:\n",
        "            print(\"local diff: \", Rout.sum() - Rin.sum())\n",
        "        # Note: \n",
        "        # - local  layer   relevance conservation if bias_factor==1.0 and bias_nb_units==D (i.e. when only one incoming layer)\n",
        "        # - global network relevance conservation if bias_factor==1.0 and bias_nb_units set accordingly to the total number of lower-layer connections \n",
        "        # -> can be used for sanity check\n",
        "\n",
        "        return Rin\n",
        "        \n",
        "    def get_layer_output(self, layer_name, data):\n",
        "        # https://keras.io/getting-started/faq/#how-can-i-obtain-the-output-of-an-intermediate-layer\n",
        "        intermediate_layer_model = keras.Model(inputs=self.model.input,\n",
        "                                         outputs=self.model.get_layer(layer_name).output)\n",
        "        return intermediate_layer_model.predict(data)  \n",
        "    \n",
        "    def run(self, target_data, target_class):\n",
        "        def sigmoid(x):\n",
        "            return 1 / (1 + np.exp(-x))\n",
        "        \n",
        "        #원본 소스에서 E embedding은 전체에 대한 단어 사전이고, x는 embedding된 인풋이다.  \n",
        "        # w_indices [109, 11995, 25, 18263, 25, 973, 3138, 6389, 372]\n",
        "        \n",
        "        x = self.get_layer_output('embedding', target_data).squeeze(axis=1)\n",
        "        e = x.shape[1]\n",
        "\n",
        "       ################# forword\n",
        "        T = target_data.shape[0]\n",
        "        d = int(512/4)  # hidden units\n",
        "        C = self.Why.shape[0] # number of classes\n",
        "\n",
        "        idx    = np.hstack((np.arange(0,d), np.arange(2*d,4*d))).astype(int) # indices of gates i,f,o together\n",
        "        idx_i, idx_f, idx_c, idx_o = np.arange(0,d), np.arange(d,2*d), np.arange(2*d,3*d), np.arange(3*d,4*d) # indices of gates i,g,f,o separately\n",
        "\n",
        "        # 최종적으로 구하려는 값은 c에 저장될 값과 h으로 지워질 값\n",
        "        h  = np.zeros((T,d))\n",
        "        c  = np.zeros((T,d))\n",
        "\n",
        "        gates_pre = np.zeros((T, 4*d))  # gates pre-activation\n",
        "        gates     = np.zeros((T, 4*d))  # gates activation\n",
        "\n",
        "        for t in range(T):\n",
        "\n",
        "            gates_pre[t]    = np.dot(self.Wxh, x[t]) + np.dot(self.Whh, h[t-1]) + self.bxh\n",
        "\n",
        "            gates[t,idx]    = sigmoid(gates_pre[t,idx])\n",
        "            gates[t,idx_c]  = np.tanh(gates_pre[t,idx_c]) \n",
        "\n",
        "            c[t]            = gates[t,idx_f]*c[t-1] + gates[t,idx_i]*gates[t,idx_c]\n",
        "            h[t]            = gates[t,idx_o]*np.tanh(c[t])\n",
        "\n",
        "        score = np.dot(self.Why, h[t])    \n",
        "\n",
        "        ################# backwork\n",
        "        dx     = np.zeros(x.shape)\n",
        "\n",
        "        dh          = np.zeros((T, d))\n",
        "        dc          = np.zeros((T, d))\n",
        "        dgates_pre  = np.zeros((T, 4*d))  # gates pre-activation\n",
        "        dgates      = np.zeros((T, 4*d))  # gates activation\n",
        "\n",
        "        ds               = np.zeros((C))\n",
        "        ds[target_class] = 1.0\n",
        "        dy               = ds.copy()\n",
        "\n",
        "        #맨처음을 0으로 시작하지 않게 위한조치\n",
        "        dh[T-1]     = np.dot(self.Why.T, dy)\n",
        "\n",
        "        for t in reversed(range(T)): \n",
        "            dgates[t,idx_o]    = dh[t] * np.tanh(c[t])  # do[t]\n",
        "            dc[t]             += dh[t] * gates[t,idx_o] * (1.-(np.tanh(c[t]))**2) # dc[t]\n",
        "            dgates[t,idx_f]    = dc[t] * c[t-1]         # df[t]\n",
        "            dc[t-1]            = dc[t] * gates[t,idx_f] # dc[t-1]\n",
        "            dgates[t,idx_i]    = dc[t] * gates[t,idx_c] # di[t]\n",
        "            dgates[t,idx_c]    = dc[t] * gates[t,idx_i] # dg[t]\n",
        "            dgates_pre[t,idx]  = dgates[t,idx] * gates[t,idx] * (1.0 - gates[t,idx]) # d ifo pre[t]\n",
        "            dgates_pre[t,idx_c]= dgates[t,idx_c] *  (1.-(gates[t,idx_c])**2) # d c pre[t]\n",
        "            dh[t-1]            = np.dot(self.Whh.T, dgates_pre[t])\n",
        "            dx[t]              = np.dot(self.Wxh.T, dgates_pre[t])\n",
        "\n",
        "        ################# LRP\n",
        "        eps=0.001 \n",
        "        bias_factor=1.0\n",
        "        Rx  = np.zeros(x.shape)\n",
        "        Rh  = np.zeros((T+1, d))\n",
        "        Rc  = np.zeros((T+1, d))\n",
        "        Rg  = np.zeros((T,   d)) # gate g only\n",
        "\n",
        "        Rout_mask            = np.zeros((C))\n",
        "        Rout_mask[target_class] = 1.0  \n",
        "\n",
        "        # format reminder: lrp_linear(hin, w, b, hout, Rout, bias_nb_units, eps, bias_factor)\n",
        "        Rh[T-1]  = self.lrp_linear(h[T-1], self.Why.T, np.zeros((C)), score, score*Rout_mask, d, eps, bias_factor, debug=False)  \n",
        "\n",
        "        for t in reversed(range(T)):\n",
        "            Rc[t]   += Rh[t]\n",
        "            Rc[t-1]  = self.lrp_linear(gates[t,idx_f]*c[t-1], np.identity(d), np.zeros((d)), c[t], Rc[t], d, eps, bias_factor, debug=False)\n",
        "            Rg[t]    = self.lrp_linear(gates[t,idx_i]*gates[t,idx_c], np.identity(d), np.zeros((d)), c[t], Rc[t], d, eps, bias_factor, debug=False)\n",
        "            Rx[t]    = self.lrp_linear(x[t], self.Wxh[idx_c].T, self.bxh[idx_c], gates_pre[t,idx_c], Rg[t], d+e, eps, bias_factor, debug=False)\n",
        "            Rh[t-1]  = self.lrp_linear(h[t-1], self.Whh[idx_c].T, self.bxh[idx_c], gates_pre[t,idx_c], Rg[t], d+e, eps, bias_factor, debug=False)    \n",
        "\n",
        "        return score, x, dx, Rx, Rh[-1].sum()"
      ],
      "execution_count": null,
      "outputs": []
    },
    {
      "cell_type": "code",
      "metadata": {
        "id": "TSWL2FsqnN_5",
        "colab_type": "code",
        "colab": {
          "base_uri": "https://localhost:8080/",
          "height": 104
        },
        "outputId": "74d21cdb-6ce6-47e5-e4ae-aa81c5864d6b"
      },
      "source": [
        "lrp = LRP4LSTM(model)"
      ],
      "execution_count": null,
      "outputs": [
        {
          "output_type": "stream",
          "text": [
            "['embedding/embeddings:0', 'lstm/lstm_cell/kernel:0', 'lstm/lstm_cell/recurrent_kernel:0', 'lstm/lstm_cell/bias:0', 'dense/kernel:0', 'dense/bias:0']\n",
            "kernel_0 (128, 512)\n",
            "recurrent_kernel_0 (128, 512)\n",
            "bias_0 (512,)\n",
            "output (128, 2)\n"
          ],
          "name": "stdout"
        }
      ]
    },
    {
      "cell_type": "code",
      "metadata": {
        "id": "m-aRLAmGnPe5",
        "colab_type": "code",
        "colab": {}
      },
      "source": [
        "def index_to_word(list):\n",
        "    _ = []\n",
        "    for x in list :\n",
        "        _.append(selected_words_10000[x].split('/')[0])\n",
        "    return _\n",
        "  \n",
        "def int_to_str(target_class):\n",
        "    if target_class == 0 :\n",
        "        return \"부정\"\n",
        "    else :\n",
        "        return \"긍정\""
      ],
      "execution_count": null,
      "outputs": []
    },
    {
      "cell_type": "code",
      "metadata": {
        "id": "x3E4jkRHnQo3",
        "colab_type": "code",
        "colab": {}
      },
      "source": [
        "predictions = model.predict(x_test)"
      ],
      "execution_count": null,
      "outputs": []
    },
    {
      "cell_type": "code",
      "metadata": {
        "id": "WymPxAQWnS3C",
        "colab_type": "code",
        "colab": {}
      },
      "source": [
        "positive_list = []\n",
        "negative_list = []\n",
        "\n",
        "for i in range(len(y_test)):\n",
        "    if np.argmax(predictions[i]) == 1:\n",
        "        positive_list.append(i)\n",
        "    else :\n",
        "        negative_list.append(i)"
      ],
      "execution_count": null,
      "outputs": []
    },
    {
      "cell_type": "code",
      "metadata": {
        "id": "pgwwECtLq8ts",
        "colab_type": "code",
        "colab": {
          "base_uri": "https://localhost:8080/",
          "height": 34
        },
        "outputId": "718d9d16-13ce-4dc0-b3e9-c78445d14186"
      },
      "source": [
        "positive_list[:5]"
      ],
      "execution_count": null,
      "outputs": [
        {
          "output_type": "execute_result",
          "data": {
            "text/plain": [
              "[0, 5, 9, 10, 12]"
            ]
          },
          "metadata": {
            "tags": []
          },
          "execution_count": 42
        }
      ]
    },
    {
      "cell_type": "code",
      "metadata": {
        "id": "uZHkM4MErBtZ",
        "colab_type": "code",
        "colab": {
          "base_uri": "https://localhost:8080/",
          "height": 34
        },
        "outputId": "3ce3a3d8-86ca-4c21-c1e9-563f934b5c37"
      },
      "source": [
        "negative_list[:5]"
      ],
      "execution_count": null,
      "outputs": [
        {
          "output_type": "execute_result",
          "data": {
            "text/plain": [
              "[1, 2, 3, 4, 6]"
            ]
          },
          "metadata": {
            "tags": []
          },
          "execution_count": 43
        }
      ]
    },
    {
      "cell_type": "code",
      "metadata": {
        "id": "nrWvo35OnWvy",
        "colab_type": "code",
        "colab": {
          "base_uri": "https://localhost:8080/",
          "height": 1000
        },
        "outputId": "10b74dc8-cf0b-48bb-f876-37619fa4c523"
      },
      "source": [
        "print(\"각 단어가 긍정이라고 예측하는데 영향을 미치는 정도\" )\n",
        "for index, i in enumerate(positive_list):\n",
        "    \n",
        "    target_full_data = x_test[i]\n",
        "    target_data = target_full_data[target_full_data != 0]\n",
        "    target_class = np.argmax(y_test[i])\n",
        "\n",
        "    score, x, Gx, Rx, R_rest = lrp.run(target_data, target_class)\n",
        "\n",
        "    R_words_SA       = (np.linalg.norm(Gx, ord=2, axis=0))**2   # compute word-level Sensitivity Analysis relevances\n",
        "    R_words          = np.sum(Rx, axis=1)                       # compute word-level LRP relevances\n",
        "    \n",
        "    words = index_to_word(target_data) \n",
        "\n",
        "    if len(words) > 0 :\n",
        "        print(\" 예측 레이블:\", int_to_str(np.argmax(predictions[i])), \"| 실제 레이블 : \", int_to_str(target_class))\n",
        "\n",
        "        print(\"        SA heatmap:\")\n",
        "        display(HTML(html_heatmap(words, R_words_SA)))\n",
        "        \n",
        "        print(\"        LRP heatmap:\")\n",
        "        display(HTML(html_heatmap(words, R_words)))\n",
        "\n",
        "        print(\"-----------------------------------------------------------\")\n",
        "\n",
        "    if index == 20: # 20roaks 출력\n",
        "      break"
      ],
      "execution_count": null,
      "outputs": [
        {
          "output_type": "stream",
          "text": [
            "각 단어가 긍정이라고 예측하는데 영향을 미치는 정도\n",
            " 예측 레이블: 긍정 | 실제 레이블 :  긍정\n",
            "        SA heatmap:\n"
          ],
          "name": "stdout"
        },
        {
          "output_type": "display_data",
          "data": {
            "text/html": [
              "<span style=\"background-color:#ffe0e0\">굳</span> <span style=\"background-color:#ffe6e6\">ㅋ</span> \n"
            ],
            "text/plain": [
              "<IPython.core.display.HTML object>"
            ]
          },
          "metadata": {
            "tags": []
          }
        },
        {
          "output_type": "stream",
          "text": [
            "        LRP heatmap:\n"
          ],
          "name": "stdout"
        },
        {
          "output_type": "display_data",
          "data": {
            "text/html": [
              "<span style=\"background-color:#ff0000\">굳</span> <span style=\"background-color:#ff7171\">ㅋ</span> \n"
            ],
            "text/plain": [
              "<IPython.core.display.HTML object>"
            ]
          },
          "metadata": {
            "tags": []
          }
        },
        {
          "output_type": "stream",
          "text": [
            "-----------------------------------------------------------\n",
            " 예측 레이블: 긍정 | 실제 레이블 :  긍정\n",
            "        SA heatmap:\n"
          ],
          "name": "stdout"
        },
        {
          "output_type": "display_data",
          "data": {
            "text/html": [
              "<span style=\"background-color:#ffd2d2\">음악</span> <span style=\"background-color:#ffd6d6\">이</span> <span style=\"background-color:#fff2f2\">주가</span> <span style=\"background-color:#fffcfc\">된</span> <span style=\"background-color:#ff8e8e\">,</span> <span style=\"background-color:#ff8080\">최고</span> <span style=\"background-color:#fff0f0\">의</span> <span style=\"background-color:#ffe6e6\">음악</span> <span style=\"background-color:#ffeeee\">영화</span> \n"
            ],
            "text/plain": [
              "<IPython.core.display.HTML object>"
            ]
          },
          "metadata": {
            "tags": []
          }
        },
        {
          "output_type": "stream",
          "text": [
            "        LRP heatmap:\n"
          ],
          "name": "stdout"
        },
        {
          "output_type": "display_data",
          "data": {
            "text/html": [
              "<span style=\"background-color:#fffefe\">음악</span> <span style=\"background-color:#fefeff\">이</span> <span style=\"background-color:#fefeff\">주가</span> <span style=\"background-color:#fffefe\">된</span> <span style=\"background-color:#fffefe\">,</span> <span style=\"background-color:#fff0f0\">최고</span> <span style=\"background-color:#ffe6e6\">의</span> <span style=\"background-color:#ff0000\">음악</span> <span style=\"background-color:#ff8c8c\">영화</span> \n"
            ],
            "text/plain": [
              "<IPython.core.display.HTML object>"
            ]
          },
          "metadata": {
            "tags": []
          }
        },
        {
          "output_type": "stream",
          "text": [
            "-----------------------------------------------------------\n",
            " 예측 레이블: 긍정 | 실제 레이블 :  긍정\n",
            "        SA heatmap:\n"
          ],
          "name": "stdout"
        },
        {
          "output_type": "display_data",
          "data": {
            "text/html": [
              "<span style=\"background-color:#ffd2d2\">이별</span> <span style=\"background-color:#ffd0d0\">의</span> <span style=\"background-color:#fff4f4\">아픔</span> <span style=\"background-color:#fffafa\">뒤</span> <span style=\"background-color:#ff8888\">에</span> <span style=\"background-color:#ff7070\">***</span> <span style=\"background-color:#ffecec\">새로운</span> <span style=\"background-color:#ffeaea\">인연</span> <span style=\"background-color:#ffe8e8\">의</span> <span style=\"background-color:#ffe0e0\">기쁨</span> <span style=\"background-color:#ff6e6e\">But</span> <span style=\"background-color:#ffdcdc\">,</span> <span style=\"background-color:#ff8686\">모든</span> <span style=\"background-color:#ffc2c2\">사람</span> <span style=\"background-color:#fff2f2\">이</span> <span style=\"background-color:#ffc2c2\">***</span> <span style=\"background-color:#ffe2e2\">않네</span> <span style=\"background-color:#ffeaea\">..</span> \n"
            ],
            "text/plain": [
              "<IPython.core.display.HTML object>"
            ]
          },
          "metadata": {
            "tags": []
          }
        },
        {
          "output_type": "stream",
          "text": [
            "        LRP heatmap:\n"
          ],
          "name": "stdout"
        },
        {
          "output_type": "display_data",
          "data": {
            "text/html": [
              "<span style=\"background-color:#fefeff\">이별</span> <span style=\"background-color:#fffefe\">의</span> <span style=\"background-color:#fffefe\">아픔</span> <span style=\"background-color:#fefeff\">뒤</span> <span style=\"background-color:#fffefe\">에</span> <span style=\"background-color:#fefeff\">***</span> <span style=\"background-color:#fffefe\">새로운</span> <span style=\"background-color:#fefeff\">인연</span> <span style=\"background-color:#fefeff\">의</span> <span style=\"background-color:#fffefe\">기쁨</span> <span style=\"background-color:#fefeff\">But</span> <span style=\"background-color:#fefeff\">,</span> <span style=\"background-color:#fefeff\">모든</span> <span style=\"background-color:#fefeff\">사람</span> <span style=\"background-color:#fafaff\">이</span> <span style=\"background-color:#e6e6ff\">***</span> <span style=\"background-color:#4848ff\">않네</span> <span style=\"background-color:#0000ff\">..</span> \n"
            ],
            "text/plain": [
              "<IPython.core.display.HTML object>"
            ]
          },
          "metadata": {
            "tags": []
          }
        },
        {
          "output_type": "stream",
          "text": [
            "-----------------------------------------------------------\n",
            "WARNING:tensorflow:5 out of the last 1567 calls to <function Model.make_predict_function.<locals>.predict_function at 0x7ff828ad7f28> triggered tf.function retracing. Tracing is expensive and the excessive number of tracings could be due to (1) creating @tf.function repeatedly in a loop, (2) passing tensors with different shapes, (3) passing Python objects instead of tensors. For (1), please define your @tf.function outside of the loop. For (2), @tf.function has experimental_relax_shapes=True option that relaxes argument shapes that can avoid unnecessary retracing. For (3), please refer to https://www.tensorflow.org/tutorials/customization/performance#python_or_tensor_args and https://www.tensorflow.org/api_docs/python/tf/function for  more details.\n",
            " 예측 레이블: 긍정 | 실제 레이블 :  긍정\n",
            "        SA heatmap:\n"
          ],
          "name": "stdout"
        },
        {
          "output_type": "display_data",
          "data": {
            "text/html": [
              "<span style=\"background-color:#ffd3d3\">괜찮네요</span> <span style=\"background-color:#ffd3d3\">오랜</span> <span style=\"background-color:#fff2f2\">만</span> <span style=\"background-color:#fffefe\">***</span> <span style=\"background-color:#ff8888\">***</span> <span style=\"background-color:#ff7c7c\">어</span> <span style=\"background-color:#ffeeee\">요</span> \n"
            ],
            "text/plain": [
              "<IPython.core.display.HTML object>"
            ]
          },
          "metadata": {
            "tags": []
          }
        },
        {
          "output_type": "stream",
          "text": [
            "        LRP heatmap:\n"
          ],
          "name": "stdout"
        },
        {
          "output_type": "display_data",
          "data": {
            "text/html": [
              "<span style=\"background-color:#fefeff\">괜찮네요</span> <span style=\"background-color:#fffefe\">오랜</span> <span style=\"background-color:#fffefe\">만</span> <span style=\"background-color:#fffefe\">***</span> <span style=\"background-color:#fcfcff\">***</span> <span style=\"background-color:#eaeaff\">어</span> <span style=\"background-color:#ff0000\">요</span> \n"
            ],
            "text/plain": [
              "<IPython.core.display.HTML object>"
            ]
          },
          "metadata": {
            "tags": []
          }
        },
        {
          "output_type": "stream",
          "text": [
            "-----------------------------------------------------------\n",
            "WARNING:tensorflow:6 out of the last 1568 calls to <function Model.make_predict_function.<locals>.predict_function at 0x7ff78a4688c8> triggered tf.function retracing. Tracing is expensive and the excessive number of tracings could be due to (1) creating @tf.function repeatedly in a loop, (2) passing tensors with different shapes, (3) passing Python objects instead of tensors. For (1), please define your @tf.function outside of the loop. For (2), @tf.function has experimental_relax_shapes=True option that relaxes argument shapes that can avoid unnecessary retracing. For (3), please refer to https://www.tensorflow.org/tutorials/customization/performance#python_or_tensor_args and https://www.tensorflow.org/api_docs/python/tf/function for  more details.\n",
            " 예측 레이블: 긍정 | 실제 레이블 :  긍정\n",
            "        SA heatmap:\n"
          ],
          "name": "stdout"
        },
        {
          "output_type": "display_data",
          "data": {
            "text/html": [
              "<span style=\"background-color:#ffd2d2\">청춘</span> <span style=\"background-color:#ffd3d3\">은</span> <span style=\"background-color:#fff4f4\">아름답다</span> <span style=\"background-color:#fffefe\">그</span> <span style=\"background-color:#ff8c8c\">아름다</span> <span style=\"background-color:#ff8282\">움</span> <span style=\"background-color:#ffeeee\">은</span> <span style=\"background-color:#ffe4e4\">이성</span> <span style=\"background-color:#ffecec\">을</span> <span style=\"background-color:#ffe4e4\">***</span> <span style=\"background-color:#ff6464\">***</span> <span style=\"background-color:#ffd8d8\">***</span> <span style=\"background-color:#ff9090\">의</span> <span style=\"background-color:#ffc8c8\">아름다</span> <span style=\"background-color:#fff4f4\">움</span> <span style=\"background-color:#ffc2c2\">을</span> <span style=\"background-color:#ffd8d8\">잘</span> <span style=\"background-color:#ffe6e6\">***</span> <span style=\"background-color:#ffaaaa\">한</span> <span style=\"background-color:#ffe6e6\">섬세하고</span> <span style=\"background-color:#ff8a8a\">아름다운</span> <span style=\"background-color:#ff5151\">***</span> <span style=\"background-color:#ff5050\">같은</span> <span style=\"background-color:#fff0f0\">퀴어</span> <span style=\"background-color:#ffeeee\">영화</span> <span style=\"background-color:#ffd0d0\">이다</span> \n"
            ],
            "text/plain": [
              "<IPython.core.display.HTML object>"
            ]
          },
          "metadata": {
            "tags": []
          }
        },
        {
          "output_type": "stream",
          "text": [
            "        LRP heatmap:\n"
          ],
          "name": "stdout"
        },
        {
          "output_type": "display_data",
          "data": {
            "text/html": [
              "<span style=\"background-color:#fefeff\">청춘</span> <span style=\"background-color:#fffefe\">은</span> <span style=\"background-color:#fffefe\">아름답다</span> <span style=\"background-color:#fffefe\">그</span> <span style=\"background-color:#fefeff\">아름다</span> <span style=\"background-color:#fefeff\">움</span> <span style=\"background-color:#fefeff\">은</span> <span style=\"background-color:#fffefe\">이성</span> <span style=\"background-color:#fffefe\">을</span> <span style=\"background-color:#fefeff\">***</span> <span style=\"background-color:#fefeff\">***</span> <span style=\"background-color:#fffefe\">***</span> <span style=\"background-color:#fffefe\">의</span> <span style=\"background-color:#fffefe\">아름다</span> <span style=\"background-color:#fffefe\">움</span> <span style=\"background-color:#fffefe\">을</span> <span style=\"background-color:#fefeff\">잘</span> <span style=\"background-color:#fefeff\">***</span> <span style=\"background-color:#fefeff\">한</span> <span style=\"background-color:#fefeff\">섬세하고</span> <span style=\"background-color:#fffcfc\">아름다운</span> <span style=\"background-color:#fefeff\">***</span> <span style=\"background-color:#fffefe\">같은</span> <span style=\"background-color:#ffeaea\">퀴어</span> <span style=\"background-color:#ffeaea\">영화</span> <span style=\"background-color:#ff0000\">이다</span> \n"
            ],
            "text/plain": [
              "<IPython.core.display.HTML object>"
            ]
          },
          "metadata": {
            "tags": []
          }
        },
        {
          "output_type": "stream",
          "text": [
            "-----------------------------------------------------------\n",
            "WARNING:tensorflow:7 out of the last 1569 calls to <function Model.make_predict_function.<locals>.predict_function at 0x7ff78a584378> triggered tf.function retracing. Tracing is expensive and the excessive number of tracings could be due to (1) creating @tf.function repeatedly in a loop, (2) passing tensors with different shapes, (3) passing Python objects instead of tensors. For (1), please define your @tf.function outside of the loop. For (2), @tf.function has experimental_relax_shapes=True option that relaxes argument shapes that can avoid unnecessary retracing. For (3), please refer to https://www.tensorflow.org/tutorials/customization/performance#python_or_tensor_args and https://www.tensorflow.org/api_docs/python/tf/function for  more details.\n",
            " 예측 레이블: 긍정 | 실제 레이블 :  긍정\n",
            "        SA heatmap:\n"
          ],
          "name": "stdout"
        },
        {
          "output_type": "display_data",
          "data": {
            "text/html": [
              "<span style=\"background-color:#ffd3d3\">눈</span> <span style=\"background-color:#ffd2d2\">에</span> <span style=\"background-color:#fff4f4\">보이는</span> <span style=\"background-color:#fffafa\">반전</span> <span style=\"background-color:#ff7e7e\">이었지만</span> <span style=\"background-color:#ff6c6c\">영화</span> <span style=\"background-color:#ffe8e8\">의</span> <span style=\"background-color:#ffeaea\">***</span> <span style=\"background-color:#ffe6e6\">력</span> <span style=\"background-color:#ffe0e0\">은</span> <span style=\"background-color:#ff6969\">***</span> <span style=\"background-color:#ffd6d6\">않았다</span> \n"
            ],
            "text/plain": [
              "<IPython.core.display.HTML object>"
            ]
          },
          "metadata": {
            "tags": []
          }
        },
        {
          "output_type": "stream",
          "text": [
            "        LRP heatmap:\n"
          ],
          "name": "stdout"
        },
        {
          "output_type": "display_data",
          "data": {
            "text/html": [
              "<span style=\"background-color:#fefeff\">눈</span> <span style=\"background-color:#fffefe\">에</span> <span style=\"background-color:#fefeff\">보이는</span> <span style=\"background-color:#fffefe\">반전</span> <span style=\"background-color:#fffefe\">이었지만</span> <span style=\"background-color:#fefeff\">영화</span> <span style=\"background-color:#fffefe\">의</span> <span style=\"background-color:#fcfcff\">***</span> <span style=\"background-color:#fff0f0\">력</span> <span style=\"background-color:#ffeaea\">은</span> <span style=\"background-color:#0000ff\">***</span> <span style=\"background-color:#3636ff\">않았다</span> \n"
            ],
            "text/plain": [
              "<IPython.core.display.HTML object>"
            ]
          },
          "metadata": {
            "tags": []
          }
        },
        {
          "output_type": "stream",
          "text": [
            "-----------------------------------------------------------\n",
            "WARNING:tensorflow:8 out of the last 1570 calls to <function Model.make_predict_function.<locals>.predict_function at 0x7ff78a57a158> triggered tf.function retracing. Tracing is expensive and the excessive number of tracings could be due to (1) creating @tf.function repeatedly in a loop, (2) passing tensors with different shapes, (3) passing Python objects instead of tensors. For (1), please define your @tf.function outside of the loop. For (2), @tf.function has experimental_relax_shapes=True option that relaxes argument shapes that can avoid unnecessary retracing. For (3), please refer to https://www.tensorflow.org/tutorials/customization/performance#python_or_tensor_args and https://www.tensorflow.org/api_docs/python/tf/function for  more details.\n",
            " 예측 레이블: 긍정 | 실제 레이블 :  긍정\n",
            "        SA heatmap:\n"
          ],
          "name": "stdout"
        },
        {
          "output_type": "display_data",
          "data": {
            "text/html": [
              "<span style=\"background-color:#ffd8d8\">최고</span> <span style=\"background-color:#ffdede\">***</span> \n"
            ],
            "text/plain": [
              "<IPython.core.display.HTML object>"
            ]
          },
          "metadata": {
            "tags": []
          }
        },
        {
          "output_type": "stream",
          "text": [
            "        LRP heatmap:\n"
          ],
          "name": "stdout"
        },
        {
          "output_type": "display_data",
          "data": {
            "text/html": [
              "<span style=\"background-color:#ff0000\">최고</span> <span style=\"background-color:#e2e2ff\">***</span> \n"
            ],
            "text/plain": [
              "<IPython.core.display.HTML object>"
            ]
          },
          "metadata": {
            "tags": []
          }
        },
        {
          "output_type": "stream",
          "text": [
            "-----------------------------------------------------------\n",
            "WARNING:tensorflow:9 out of the last 1571 calls to <function Model.make_predict_function.<locals>.predict_function at 0x7ff78a524158> triggered tf.function retracing. Tracing is expensive and the excessive number of tracings could be due to (1) creating @tf.function repeatedly in a loop, (2) passing tensors with different shapes, (3) passing Python objects instead of tensors. For (1), please define your @tf.function outside of the loop. For (2), @tf.function has experimental_relax_shapes=True option that relaxes argument shapes that can avoid unnecessary retracing. For (3), please refer to https://www.tensorflow.org/tutorials/customization/performance#python_or_tensor_args and https://www.tensorflow.org/api_docs/python/tf/function for  more details.\n",
            " 예측 레이블: 긍정 | 실제 레이블 :  긍정\n",
            "        SA heatmap:\n"
          ],
          "name": "stdout"
        },
        {
          "output_type": "display_data",
          "data": {
            "text/html": [
              "<span style=\"background-color:#ffd6d6\">이</span> <span style=\"background-color:#ffd8d8\">저</span> <span style=\"background-color:#fff4f4\">시리즈</span> <span style=\"background-color:#fffefe\">의</span> <span style=\"background-color:#ff8c8c\">첫</span> <span style=\"background-color:#ff8686\">편</span> <span style=\"background-color:#ffeeee\">작가</span> <span style=\"background-color:#ffe6e6\">의</span> <span style=\"background-color:#ffecec\">상상력</span> <span style=\"background-color:#ffe6e6\">이</span> <span style=\"background-color:#ff6666\">돋보이는</span> <span style=\"background-color:#ffdada\">작품</span> <span style=\"background-color:#ff9696\">이며</span> <span style=\"background-color:#ffcccc\">,</span> <span style=\"background-color:#fff2f2\">***</span> <span style=\"background-color:#ffc6c6\">로</span> <span style=\"background-color:#ffd6d6\">***</span> <span style=\"background-color:#ffeaea\">***</span> <span style=\"background-color:#ffaeae\">***</span> <span style=\"background-color:#ffe6e6\">은</span> <span style=\"background-color:#ff8e8e\">지금</span> <span style=\"background-color:#ff5050\">보더</span> <span style=\"background-color:#ff5454\">라도</span> <span style=\"background-color:#fff0f0\">상당히</span> <span style=\"background-color:#fff2f2\">잔인하고</span> <span style=\"background-color:#ffd2d2\">충격</span> <span style=\"background-color:#ffeeee\">적</span> <span style=\"background-color:#ff4949\">이다</span> \n"
            ],
            "text/plain": [
              "<IPython.core.display.HTML object>"
            ]
          },
          "metadata": {
            "tags": []
          }
        },
        {
          "output_type": "stream",
          "text": [
            "        LRP heatmap:\n"
          ],
          "name": "stdout"
        },
        {
          "output_type": "display_data",
          "data": {
            "text/html": [
              "<span style=\"background-color:#fffefe\">이</span> <span style=\"background-color:#fefeff\">저</span> <span style=\"background-color:#fefeff\">시리즈</span> <span style=\"background-color:#fefeff\">의</span> <span style=\"background-color:#fefeff\">첫</span> <span style=\"background-color:#fefeff\">편</span> <span style=\"background-color:#fffefe\">작가</span> <span style=\"background-color:#fffefe\">의</span> <span style=\"background-color:#fffefe\">상상력</span> <span style=\"background-color:#fefeff\">이</span> <span style=\"background-color:#fefeff\">돋보이는</span> <span style=\"background-color:#fffefe\">작품</span> <span style=\"background-color:#fefeff\">이며</span> <span style=\"background-color:#fefeff\">,</span> <span style=\"background-color:#fefeff\">***</span> <span style=\"background-color:#fefeff\">로</span> <span style=\"background-color:#fefeff\">***</span> <span style=\"background-color:#fefeff\">***</span> <span style=\"background-color:#fefeff\">***</span> <span style=\"background-color:#fefeff\">은</span> <span style=\"background-color:#fefeff\">지금</span> <span style=\"background-color:#fffefe\">보더</span> <span style=\"background-color:#fefeff\">라도</span> <span style=\"background-color:#fffefe\">상당히</span> <span style=\"background-color:#fffcfc\">잔인하고</span> <span style=\"background-color:#ffe0e0\">충격</span> <span style=\"background-color:#ff9292\">적</span> <span style=\"background-color:#ff0000\">이다</span> \n"
            ],
            "text/plain": [
              "<IPython.core.display.HTML object>"
            ]
          },
          "metadata": {
            "tags": []
          }
        },
        {
          "output_type": "stream",
          "text": [
            "-----------------------------------------------------------\n",
            "WARNING:tensorflow:10 out of the last 1572 calls to <function Model.make_predict_function.<locals>.predict_function at 0x7ff828ab0950> triggered tf.function retracing. Tracing is expensive and the excessive number of tracings could be due to (1) creating @tf.function repeatedly in a loop, (2) passing tensors with different shapes, (3) passing Python objects instead of tensors. For (1), please define your @tf.function outside of the loop. For (2), @tf.function has experimental_relax_shapes=True option that relaxes argument shapes that can avoid unnecessary retracing. For (3), please refer to https://www.tensorflow.org/tutorials/customization/performance#python_or_tensor_args and https://www.tensorflow.org/api_docs/python/tf/function for  more details.\n",
            " 예측 레이블: 긍정 | 실제 레이블 :  긍정\n",
            "        SA heatmap:\n"
          ],
          "name": "stdout"
        },
        {
          "output_type": "display_data",
          "data": {
            "text/html": [
              "<span style=\"background-color:#ffdede\">꽤</span> <span style=\"background-color:#ffe0e0\">재밌게</span> <span style=\"background-color:#fff4f4\">본</span> <span style=\"background-color:#fffafa\">영화</span> <span style=\"background-color:#ff9c9c\">였다</span> <span style=\"background-color:#ffa2a2\">!</span> \n"
            ],
            "text/plain": [
              "<IPython.core.display.HTML object>"
            ]
          },
          "metadata": {
            "tags": []
          }
        },
        {
          "output_type": "stream",
          "text": [
            "        LRP heatmap:\n"
          ],
          "name": "stdout"
        },
        {
          "output_type": "display_data",
          "data": {
            "text/html": [
              "<span style=\"background-color:#fffefe\">꽤</span> <span style=\"background-color:#fffafa\">재밌게</span> <span style=\"background-color:#fffefe\">본</span> <span style=\"background-color:#fffefe\">영화</span> <span style=\"background-color:#ffa6a6\">였다</span> <span style=\"background-color:#ff0000\">!</span> \n"
            ],
            "text/plain": [
              "<IPython.core.display.HTML object>"
            ]
          },
          "metadata": {
            "tags": []
          }
        },
        {
          "output_type": "stream",
          "text": [
            "-----------------------------------------------------------\n",
            "WARNING:tensorflow:11 out of the last 1573 calls to <function Model.make_predict_function.<locals>.predict_function at 0x7ff785c26158> triggered tf.function retracing. Tracing is expensive and the excessive number of tracings could be due to (1) creating @tf.function repeatedly in a loop, (2) passing tensors with different shapes, (3) passing Python objects instead of tensors. For (1), please define your @tf.function outside of the loop. For (2), @tf.function has experimental_relax_shapes=True option that relaxes argument shapes that can avoid unnecessary retracing. For (3), please refer to https://www.tensorflow.org/tutorials/customization/performance#python_or_tensor_args and https://www.tensorflow.org/api_docs/python/tf/function for  more details.\n",
            " 예측 레이블: 긍정 | 실제 레이블 :  긍정\n",
            "        SA heatmap:\n"
          ],
          "name": "stdout"
        },
        {
          "output_type": "display_data",
          "data": {
            "text/html": [
              "<span style=\"background-color:#ffd3d3\">민주화</span> <span style=\"background-color:#ffd8d8\">시대</span> <span style=\"background-color:#fff4f4\">의</span> <span style=\"background-color:#fffefe\">***</span> <span style=\"background-color:#ff8c8c\">영혼</span> <span style=\"background-color:#ff8686\">의</span> <span style=\"background-color:#ffeeee\">***</span> <span style=\"background-color:#ffe6e6\">적</span> <span style=\"background-color:#ffecec\">인</span> <span style=\"background-color:#ffe6e6\">욕구</span> <span style=\"background-color:#ff6666\">***</span> <span style=\"background-color:#ffdada\">인상</span> <span style=\"background-color:#ff9696\">적</span> <span style=\"background-color:#ffcccc\">이다</span> \n"
            ],
            "text/plain": [
              "<IPython.core.display.HTML object>"
            ]
          },
          "metadata": {
            "tags": []
          }
        },
        {
          "output_type": "stream",
          "text": [
            "        LRP heatmap:\n"
          ],
          "name": "stdout"
        },
        {
          "output_type": "display_data",
          "data": {
            "text/html": [
              "<span style=\"background-color:#fffefe\">민주화</span> <span style=\"background-color:#fffefe\">시대</span> <span style=\"background-color:#fffefe\">의</span> <span style=\"background-color:#fffefe\">***</span> <span style=\"background-color:#fffefe\">영혼</span> <span style=\"background-color:#fffefe\">의</span> <span style=\"background-color:#fffefe\">***</span> <span style=\"background-color:#fefeff\">적</span> <span style=\"background-color:#fffefe\">인</span> <span style=\"background-color:#fffefe\">욕구</span> <span style=\"background-color:#fffefe\">***</span> <span style=\"background-color:#fff4f4\">인상</span> <span style=\"background-color:#ff9090\">적</span> <span style=\"background-color:#ff0000\">이다</span> \n"
            ],
            "text/plain": [
              "<IPython.core.display.HTML object>"
            ]
          },
          "metadata": {
            "tags": []
          }
        },
        {
          "output_type": "stream",
          "text": [
            "-----------------------------------------------------------\n",
            "WARNING:tensorflow:11 out of the last 11 calls to <function Model.make_predict_function.<locals>.predict_function at 0x7ff78a524620> triggered tf.function retracing. Tracing is expensive and the excessive number of tracings could be due to (1) creating @tf.function repeatedly in a loop, (2) passing tensors with different shapes, (3) passing Python objects instead of tensors. For (1), please define your @tf.function outside of the loop. For (2), @tf.function has experimental_relax_shapes=True option that relaxes argument shapes that can avoid unnecessary retracing. For (3), please refer to https://www.tensorflow.org/tutorials/customization/performance#python_or_tensor_args and https://www.tensorflow.org/api_docs/python/tf/function for  more details.\n",
            " 예측 레이블: 긍정 | 실제 레이블 :  긍정\n",
            "        SA heatmap:\n"
          ],
          "name": "stdout"
        },
        {
          "output_type": "display_data",
          "data": {
            "text/html": [
              "<span style=\"background-color:#ffd2d2\">실화</span> <span style=\"background-color:#ffd2d2\">라서</span> <span style=\"background-color:#fff4f4\">더욱</span> <span style=\"background-color:#fffafa\">아름답고</span> <span style=\"background-color:#ff8383\">***</span> <span style=\"background-color:#ff7171\">...</span> <span style=\"background-color:#ffe8e8\">많이</span> <span style=\"background-color:#ffe8e8\">울었어요</span> <span style=\"background-color:#ffe8e8\">벌써</span> <span style=\"background-color:#ffe2e2\">4년</span> <span style=\"background-color:#ff6464\">***</span> \n"
            ],
            "text/plain": [
              "<IPython.core.display.HTML object>"
            ]
          },
          "metadata": {
            "tags": []
          }
        },
        {
          "output_type": "stream",
          "text": [
            "        LRP heatmap:\n"
          ],
          "name": "stdout"
        },
        {
          "output_type": "display_data",
          "data": {
            "text/html": [
              "<span style=\"background-color:#fefeff\">실화</span> <span style=\"background-color:#fefeff\">라서</span> <span style=\"background-color:#fffefe\">더욱</span> <span style=\"background-color:#fffefe\">아름답고</span> <span style=\"background-color:#fffefe\">***</span> <span style=\"background-color:#fffefe\">...</span> <span style=\"background-color:#fefeff\">많이</span> <span style=\"background-color:#ffd6d6\">울었어요</span> <span style=\"background-color:#fff4f4\">벌써</span> <span style=\"background-color:#ff3c3c\">4년</span> <span style=\"background-color:#0000ff\">***</span> \n"
            ],
            "text/plain": [
              "<IPython.core.display.HTML object>"
            ]
          },
          "metadata": {
            "tags": []
          }
        },
        {
          "output_type": "stream",
          "text": [
            "-----------------------------------------------------------\n",
            "WARNING:tensorflow:11 out of the last 11 calls to <function Model.make_predict_function.<locals>.predict_function at 0x7ff8391c8598> triggered tf.function retracing. Tracing is expensive and the excessive number of tracings could be due to (1) creating @tf.function repeatedly in a loop, (2) passing tensors with different shapes, (3) passing Python objects instead of tensors. For (1), please define your @tf.function outside of the loop. For (2), @tf.function has experimental_relax_shapes=True option that relaxes argument shapes that can avoid unnecessary retracing. For (3), please refer to https://www.tensorflow.org/tutorials/customization/performance#python_or_tensor_args and https://www.tensorflow.org/api_docs/python/tf/function for  more details.\n",
            " 예측 레이블: 긍정 | 실제 레이블 :  긍정\n",
            "        SA heatmap:\n"
          ],
          "name": "stdout"
        },
        {
          "output_type": "display_data",
          "data": {
            "text/html": [
              "<span style=\"background-color:#ffd8d8\">지금</span> <span style=\"background-color:#ffdede\">까지</span> <span style=\"background-color:#fff2f2\">본</span> <span style=\"background-color:#fff6f6\">영화</span> <span style=\"background-color:#ff9e9e\">중</span> <span style=\"background-color:#ff9696\">마음</span> <span style=\"background-color:#fff4f4\">이</span> <span style=\"background-color:#ffe4e4\">가장</span> <span style=\"background-color:#fff2f2\">따뜻해지는</span> <span style=\"background-color:#ffeaea\">영화</span> \n"
            ],
            "text/plain": [
              "<IPython.core.display.HTML object>"
            ]
          },
          "metadata": {
            "tags": []
          }
        },
        {
          "output_type": "stream",
          "text": [
            "        LRP heatmap:\n"
          ],
          "name": "stdout"
        },
        {
          "output_type": "display_data",
          "data": {
            "text/html": [
              "<span style=\"background-color:#fefeff\">지금</span> <span style=\"background-color:#fffefe\">까지</span> <span style=\"background-color:#fffefe\">본</span> <span style=\"background-color:#fefeff\">영화</span> <span style=\"background-color:#fffefe\">중</span> <span style=\"background-color:#fffcfc\">마음</span> <span style=\"background-color:#fefeff\">이</span> <span style=\"background-color:#fffefe\">가장</span> <span style=\"background-color:#ff0000\">따뜻해지는</span> <span style=\"background-color:#ffd8d8\">영화</span> \n"
            ],
            "text/plain": [
              "<IPython.core.display.HTML object>"
            ]
          },
          "metadata": {
            "tags": []
          }
        },
        {
          "output_type": "stream",
          "text": [
            "-----------------------------------------------------------\n",
            "WARNING:tensorflow:11 out of the last 11 calls to <function Model.make_predict_function.<locals>.predict_function at 0x7ff78a57a0d0> triggered tf.function retracing. Tracing is expensive and the excessive number of tracings could be due to (1) creating @tf.function repeatedly in a loop, (2) passing tensors with different shapes, (3) passing Python objects instead of tensors. For (1), please define your @tf.function outside of the loop. For (2), @tf.function has experimental_relax_shapes=True option that relaxes argument shapes that can avoid unnecessary retracing. For (3), please refer to https://www.tensorflow.org/tutorials/customization/performance#python_or_tensor_args and https://www.tensorflow.org/api_docs/python/tf/function for  more details.\n",
            " 예측 레이블: 긍정 | 실제 레이블 :  긍정\n",
            "        SA heatmap:\n"
          ],
          "name": "stdout"
        },
        {
          "output_type": "display_data",
          "data": {
            "text/html": [
              "<span style=\"background-color:#ffeaea\">너무</span> <span style=\"background-color:#fff4f4\">너무</span> <span style=\"background-color:#ffecec\">재밌다</span> \n"
            ],
            "text/plain": [
              "<IPython.core.display.HTML object>"
            ]
          },
          "metadata": {
            "tags": []
          }
        },
        {
          "output_type": "stream",
          "text": [
            "        LRP heatmap:\n"
          ],
          "name": "stdout"
        },
        {
          "output_type": "display_data",
          "data": {
            "text/html": [
              "<span style=\"background-color:#fcfcff\">너무</span> <span style=\"background-color:#fffcfc\">너무</span> <span style=\"background-color:#ff0000\">재밌다</span> \n"
            ],
            "text/plain": [
              "<IPython.core.display.HTML object>"
            ]
          },
          "metadata": {
            "tags": []
          }
        },
        {
          "output_type": "stream",
          "text": [
            "-----------------------------------------------------------\n",
            "WARNING:tensorflow:11 out of the last 11 calls to <function Model.make_predict_function.<locals>.predict_function at 0x7ff785c4b950> triggered tf.function retracing. Tracing is expensive and the excessive number of tracings could be due to (1) creating @tf.function repeatedly in a loop, (2) passing tensors with different shapes, (3) passing Python objects instead of tensors. For (1), please define your @tf.function outside of the loop. For (2), @tf.function has experimental_relax_shapes=True option that relaxes argument shapes that can avoid unnecessary retracing. For (3), please refer to https://www.tensorflow.org/tutorials/customization/performance#python_or_tensor_args and https://www.tensorflow.org/api_docs/python/tf/function for  more details.\n",
            " 예측 레이블: 긍정 | 실제 레이블 :  긍정\n",
            "        SA heatmap:\n"
          ],
          "name": "stdout"
        },
        {
          "output_type": "display_data",
          "data": {
            "text/html": [
              "<span style=\"background-color:#ffd0d0\">안보</span> <span style=\"background-color:#ffd2d2\">면</span> <span style=\"background-color:#fff4f4\">후회</span> <span style=\"background-color:#fffcfc\">ㅠㅠ</span> <span style=\"background-color:#ff8383\">...</span> \n"
            ],
            "text/plain": [
              "<IPython.core.display.HTML object>"
            ]
          },
          "metadata": {
            "tags": []
          }
        },
        {
          "output_type": "stream",
          "text": [
            "        LRP heatmap:\n"
          ],
          "name": "stdout"
        },
        {
          "output_type": "display_data",
          "data": {
            "text/html": [
              "<span style=\"background-color:#fefeff\">안보</span> <span style=\"background-color:#fffcfc\">면</span> <span style=\"background-color:#ffecec\">후회</span> <span style=\"background-color:#ff5959\">ㅠㅠ</span> <span style=\"background-color:#0000ff\">...</span> \n"
            ],
            "text/plain": [
              "<IPython.core.display.HTML object>"
            ]
          },
          "metadata": {
            "tags": []
          }
        },
        {
          "output_type": "stream",
          "text": [
            "-----------------------------------------------------------\n",
            "WARNING:tensorflow:11 out of the last 11 calls to <function Model.make_predict_function.<locals>.predict_function at 0x7ff828aa71e0> triggered tf.function retracing. Tracing is expensive and the excessive number of tracings could be due to (1) creating @tf.function repeatedly in a loop, (2) passing tensors with different shapes, (3) passing Python objects instead of tensors. For (1), please define your @tf.function outside of the loop. For (2), @tf.function has experimental_relax_shapes=True option that relaxes argument shapes that can avoid unnecessary retracing. For (3), please refer to https://www.tensorflow.org/tutorials/customization/performance#python_or_tensor_args and https://www.tensorflow.org/api_docs/python/tf/function for  more details.\n",
            " 예측 레이블: 긍정 | 실제 레이블 :  부정\n",
            "        SA heatmap:\n"
          ],
          "name": "stdout"
        },
        {
          "output_type": "display_data",
          "data": {
            "text/html": [
              "<span style=\"background-color:#ffcece\">정말</span> <span style=\"background-color:#ffbcbc\">,</span> <span style=\"background-color:#fff0f0\">진짜</span> <span style=\"background-color:#fff6f6\">,</span> <span style=\"background-color:#ff8c8c\">표현</span> <span style=\"background-color:#ff6c6c\">할수</span> <span style=\"background-color:#ffeaea\">없는</span> <span style=\"background-color:#ffecec\">영화</span> <span style=\"background-color:#ffe2e2\">...</span> \n"
            ],
            "text/plain": [
              "<IPython.core.display.HTML object>"
            ]
          },
          "metadata": {
            "tags": []
          }
        },
        {
          "output_type": "stream",
          "text": [
            "        LRP heatmap:\n"
          ],
          "name": "stdout"
        },
        {
          "output_type": "display_data",
          "data": {
            "text/html": [
              "<span style=\"background-color:#fefeff\">정말</span> <span style=\"background-color:#fefeff\">,</span> <span style=\"background-color:#fffefe\">진짜</span> <span style=\"background-color:#fefeff\">,</span> <span style=\"background-color:#fcfcff\">표현</span> <span style=\"background-color:#fcfcff\">할수</span> <span style=\"background-color:#ffe8e8\">없는</span> <span style=\"background-color:#ffeeee\">영화</span> <span style=\"background-color:#ff0000\">...</span> \n"
            ],
            "text/plain": [
              "<IPython.core.display.HTML object>"
            ]
          },
          "metadata": {
            "tags": []
          }
        },
        {
          "output_type": "stream",
          "text": [
            "-----------------------------------------------------------\n",
            "WARNING:tensorflow:11 out of the last 11 calls to <function Model.make_predict_function.<locals>.predict_function at 0x7ff785c15b70> triggered tf.function retracing. Tracing is expensive and the excessive number of tracings could be due to (1) creating @tf.function repeatedly in a loop, (2) passing tensors with different shapes, (3) passing Python objects instead of tensors. For (1), please define your @tf.function outside of the loop. For (2), @tf.function has experimental_relax_shapes=True option that relaxes argument shapes that can avoid unnecessary retracing. For (3), please refer to https://www.tensorflow.org/tutorials/customization/performance#python_or_tensor_args and https://www.tensorflow.org/api_docs/python/tf/function for  more details.\n",
            " 예측 레이블: 긍정 | 실제 레이블 :  부정\n",
            "        SA heatmap:\n"
          ],
          "name": "stdout"
        },
        {
          "output_type": "display_data",
          "data": {
            "text/html": [
              "<span style=\"background-color:#ffd0d0\">***</span> <span style=\"background-color:#ffc3c3\">는</span> <span style=\"background-color:#ffecec\">***</span> <span style=\"background-color:#fffefe\">고</span> <span style=\"background-color:#ff7c7c\">이영화</span> <span style=\"background-color:#ff7979\">는</span> <span style=\"background-color:#ffeaea\">이영화</span> \n"
            ],
            "text/plain": [
              "<IPython.core.display.HTML object>"
            ]
          },
          "metadata": {
            "tags": []
          }
        },
        {
          "output_type": "stream",
          "text": [
            "        LRP heatmap:\n"
          ],
          "name": "stdout"
        },
        {
          "output_type": "display_data",
          "data": {
            "text/html": [
              "<span style=\"background-color:#fefeff\">***</span> <span style=\"background-color:#fffefe\">는</span> <span style=\"background-color:#fffefe\">***</span> <span style=\"background-color:#fefeff\">고</span> <span style=\"background-color:#fffafa\">이영화</span> <span style=\"background-color:#ffc3c3\">는</span> <span style=\"background-color:#0000ff\">이영화</span> \n"
            ],
            "text/plain": [
              "<IPython.core.display.HTML object>"
            ]
          },
          "metadata": {
            "tags": []
          }
        },
        {
          "output_type": "stream",
          "text": [
            "-----------------------------------------------------------\n",
            "WARNING:tensorflow:11 out of the last 11 calls to <function Model.make_predict_function.<locals>.predict_function at 0x7ff78a468b70> triggered tf.function retracing. Tracing is expensive and the excessive number of tracings could be due to (1) creating @tf.function repeatedly in a loop, (2) passing tensors with different shapes, (3) passing Python objects instead of tensors. For (1), please define your @tf.function outside of the loop. For (2), @tf.function has experimental_relax_shapes=True option that relaxes argument shapes that can avoid unnecessary retracing. For (3), please refer to https://www.tensorflow.org/tutorials/customization/performance#python_or_tensor_args and https://www.tensorflow.org/api_docs/python/tf/function for  more details.\n",
            " 예측 레이블: 긍정 | 실제 레이블 :  긍정\n",
            "        SA heatmap:\n"
          ],
          "name": "stdout"
        },
        {
          "output_type": "display_data",
          "data": {
            "text/html": [
              "<span style=\"background-color:#ffd0d0\">감동</span> <span style=\"background-color:#ffd0d0\">적</span> <span style=\"background-color:#fff4f4\">이다</span> <span style=\"background-color:#fffafa\">....</span> \n"
            ],
            "text/plain": [
              "<IPython.core.display.HTML object>"
            ]
          },
          "metadata": {
            "tags": []
          }
        },
        {
          "output_type": "stream",
          "text": [
            "        LRP heatmap:\n"
          ],
          "name": "stdout"
        },
        {
          "output_type": "display_data",
          "data": {
            "text/html": [
              "<span style=\"background-color:#fefeff\">감동</span> <span style=\"background-color:#f6f6ff\">적</span> <span style=\"background-color:#ffc2c2\">이다</span> <span style=\"background-color:#0000ff\">....</span> \n"
            ],
            "text/plain": [
              "<IPython.core.display.HTML object>"
            ]
          },
          "metadata": {
            "tags": []
          }
        },
        {
          "output_type": "stream",
          "text": [
            "-----------------------------------------------------------\n",
            "WARNING:tensorflow:11 out of the last 11 calls to <function Model.make_predict_function.<locals>.predict_function at 0x7ff784bec730> triggered tf.function retracing. Tracing is expensive and the excessive number of tracings could be due to (1) creating @tf.function repeatedly in a loop, (2) passing tensors with different shapes, (3) passing Python objects instead of tensors. For (1), please define your @tf.function outside of the loop. For (2), @tf.function has experimental_relax_shapes=True option that relaxes argument shapes that can avoid unnecessary retracing. For (3), please refer to https://www.tensorflow.org/tutorials/customization/performance#python_or_tensor_args and https://www.tensorflow.org/api_docs/python/tf/function for  more details.\n",
            " 예측 레이블: 긍정 | 실제 레이블 :  긍정\n",
            "        SA heatmap:\n"
          ],
          "name": "stdout"
        },
        {
          "output_type": "display_data",
          "data": {
            "text/html": [
              "<span style=\"background-color:#ffe0e0\">이런</span> <span style=\"background-color:#ffeaea\">스타일</span> <span style=\"background-color:#fff2f2\">액션영화</span> <span style=\"background-color:#ffdede\">굿굿</span> <span style=\"background-color:#ffb6b6\">!!</span> \n"
            ],
            "text/plain": [
              "<IPython.core.display.HTML object>"
            ]
          },
          "metadata": {
            "tags": []
          }
        },
        {
          "output_type": "stream",
          "text": [
            "        LRP heatmap:\n"
          ],
          "name": "stdout"
        },
        {
          "output_type": "display_data",
          "data": {
            "text/html": [
              "<span style=\"background-color:#fffefe\">이런</span> <span style=\"background-color:#fffefe\">스타일</span> <span style=\"background-color:#fffafa\">액션영화</span> <span style=\"background-color:#ff0000\">굿굿</span> <span style=\"background-color:#ff6868\">!!</span> \n"
            ],
            "text/plain": [
              "<IPython.core.display.HTML object>"
            ]
          },
          "metadata": {
            "tags": []
          }
        },
        {
          "output_type": "stream",
          "text": [
            "-----------------------------------------------------------\n",
            "WARNING:tensorflow:11 out of the last 11 calls to <function Model.make_predict_function.<locals>.predict_function at 0x7ff785c4bc80> triggered tf.function retracing. Tracing is expensive and the excessive number of tracings could be due to (1) creating @tf.function repeatedly in a loop, (2) passing tensors with different shapes, (3) passing Python objects instead of tensors. For (1), please define your @tf.function outside of the loop. For (2), @tf.function has experimental_relax_shapes=True option that relaxes argument shapes that can avoid unnecessary retracing. For (3), please refer to https://www.tensorflow.org/tutorials/customization/performance#python_or_tensor_args and https://www.tensorflow.org/api_docs/python/tf/function for  more details.\n",
            " 예측 레이블: 긍정 | 실제 레이블 :  긍정\n",
            "        SA heatmap:\n"
          ],
          "name": "stdout"
        },
        {
          "output_type": "display_data",
          "data": {
            "text/html": [
              "<span style=\"background-color:#ffd6d6\">제임스</span> <span style=\"background-color:#ffd6d6\">***</span> <span style=\"background-color:#fff4f4\">***</span> <span style=\"background-color:#fffefe\">50</span> <span style=\"background-color:#ff8888\">먹고</span> <span style=\"background-color:#ff7e7e\">더</span> <span style=\"background-color:#ffecec\">파워</span> <span style=\"background-color:#ffe8e8\">***</span> <span style=\"background-color:#ffeaea\">***</span> <span style=\"background-color:#ffe6e6\">ㅋㅋㅋ</span> \n"
            ],
            "text/plain": [
              "<IPython.core.display.HTML object>"
            ]
          },
          "metadata": {
            "tags": []
          }
        },
        {
          "output_type": "stream",
          "text": [
            "        LRP heatmap:\n"
          ],
          "name": "stdout"
        },
        {
          "output_type": "display_data",
          "data": {
            "text/html": [
              "<span style=\"background-color:#fefeff\">제임스</span> <span style=\"background-color:#fefeff\">***</span> <span style=\"background-color:#fefeff\">***</span> <span style=\"background-color:#fefeff\">50</span> <span style=\"background-color:#fefeff\">먹고</span> <span style=\"background-color:#fefeff\">더</span> <span style=\"background-color:#fefeff\">파워</span> <span style=\"background-color:#fefeff\">***</span> <span style=\"background-color:#eaeaff\">***</span> <span style=\"background-color:#ff0000\">ㅋㅋㅋ</span> \n"
            ],
            "text/plain": [
              "<IPython.core.display.HTML object>"
            ]
          },
          "metadata": {
            "tags": []
          }
        },
        {
          "output_type": "stream",
          "text": [
            "-----------------------------------------------------------\n",
            "WARNING:tensorflow:11 out of the last 11 calls to <function Model.make_predict_function.<locals>.predict_function at 0x7ff785c26510> triggered tf.function retracing. Tracing is expensive and the excessive number of tracings could be due to (1) creating @tf.function repeatedly in a loop, (2) passing tensors with different shapes, (3) passing Python objects instead of tensors. For (1), please define your @tf.function outside of the loop. For (2), @tf.function has experimental_relax_shapes=True option that relaxes argument shapes that can avoid unnecessary retracing. For (3), please refer to https://www.tensorflow.org/tutorials/customization/performance#python_or_tensor_args and https://www.tensorflow.org/api_docs/python/tf/function for  more details.\n",
            " 예측 레이블: 긍정 | 실제 레이블 :  부정\n",
            "        SA heatmap:\n"
          ],
          "name": "stdout"
        },
        {
          "output_type": "display_data",
          "data": {
            "text/html": [
              "<span style=\"background-color:#ffd3d3\">***</span> <span style=\"background-color:#ffcccc\">와</span> <span style=\"background-color:#ffecec\">***</span> <span style=\"background-color:#fffefe\">의</span> <span style=\"background-color:#ff8686\">시원한</span> <span style=\"background-color:#ff8c8c\">액션</span> <span style=\"background-color:#ffeeee\">은</span> <span style=\"background-color:#ffeaea\">어디</span> <span style=\"background-color:#ffe8e8\">***</span> <span style=\"background-color:#ffe6e6\">ㅁㅊ</span> \n"
            ],
            "text/plain": [
              "<IPython.core.display.HTML object>"
            ]
          },
          "metadata": {
            "tags": []
          }
        },
        {
          "output_type": "stream",
          "text": [
            "        LRP heatmap:\n"
          ],
          "name": "stdout"
        },
        {
          "output_type": "display_data",
          "data": {
            "text/html": [
              "<span style=\"background-color:#fefeff\">***</span> <span style=\"background-color:#fefeff\">와</span> <span style=\"background-color:#fffefe\">***</span> <span style=\"background-color:#fefeff\">의</span> <span style=\"background-color:#fffefe\">시원한</span> <span style=\"background-color:#fefeff\">액션</span> <span style=\"background-color:#fffefe\">은</span> <span style=\"background-color:#fffcfc\">어디</span> <span style=\"background-color:#fff0f0\">***</span> <span style=\"background-color:#0000ff\">ㅁㅊ</span> \n"
            ],
            "text/plain": [
              "<IPython.core.display.HTML object>"
            ]
          },
          "metadata": {
            "tags": []
          }
        },
        {
          "output_type": "stream",
          "text": [
            "-----------------------------------------------------------\n",
            "WARNING:tensorflow:11 out of the last 11 calls to <function Model.make_predict_function.<locals>.predict_function at 0x7ff78a487bf8> triggered tf.function retracing. Tracing is expensive and the excessive number of tracings could be due to (1) creating @tf.function repeatedly in a loop, (2) passing tensors with different shapes, (3) passing Python objects instead of tensors. For (1), please define your @tf.function outside of the loop. For (2), @tf.function has experimental_relax_shapes=True option that relaxes argument shapes that can avoid unnecessary retracing. For (3), please refer to https://www.tensorflow.org/tutorials/customization/performance#python_or_tensor_args and https://www.tensorflow.org/api_docs/python/tf/function for  more details.\n",
            " 예측 레이블: 긍정 | 실제 레이블 :  긍정\n",
            "        SA heatmap:\n"
          ],
          "name": "stdout"
        },
        {
          "output_type": "display_data",
          "data": {
            "text/html": [
              "<span style=\"background-color:#ffd0d0\">아</span> <span style=\"background-color:#ffd2d2\">극장</span> <span style=\"background-color:#fff6f6\">에서</span> <span style=\"background-color:#fffafa\">아무</span> <span style=\"background-color:#ff8686\">기대</span> <span style=\"background-color:#ff6e6e\">없이</span> <span style=\"background-color:#ffeaea\">***</span> <span style=\"background-color:#ffe8e8\">감탄</span> <span style=\"background-color:#ffe8e8\">하면서</span> <span style=\"background-color:#ffe0e0\">보고</span> <span style=\"background-color:#ff6666\">나왔는데</span> <span style=\"background-color:#ffd6d6\">2001년</span> <span style=\"background-color:#ff8383\">도</span> <span style=\"background-color:#ffc6c6\">였구나</span> <span style=\"background-color:#fff2f2\">그</span> <span style=\"background-color:#ffc0c0\">때</span> <span style=\"background-color:#ffdede\">가</span> \n"
            ],
            "text/plain": [
              "<IPython.core.display.HTML object>"
            ]
          },
          "metadata": {
            "tags": []
          }
        },
        {
          "output_type": "stream",
          "text": [
            "        LRP heatmap:\n"
          ],
          "name": "stdout"
        },
        {
          "output_type": "display_data",
          "data": {
            "text/html": [
              "<span style=\"background-color:#fefeff\">아</span> <span style=\"background-color:#fefeff\">극장</span> <span style=\"background-color:#fefeff\">에서</span> <span style=\"background-color:#fefeff\">아무</span> <span style=\"background-color:#fffefe\">기대</span> <span style=\"background-color:#fffefe\">없이</span> <span style=\"background-color:#fffefe\">***</span> <span style=\"background-color:#fefeff\">감탄</span> <span style=\"background-color:#fefeff\">하면서</span> <span style=\"background-color:#fffefe\">보고</span> <span style=\"background-color:#fefeff\">나왔는데</span> <span style=\"background-color:#fefeff\">2001년</span> <span style=\"background-color:#fefeff\">도</span> <span style=\"background-color:#fffefe\">였구나</span> <span style=\"background-color:#fff8f8\">그</span> <span style=\"background-color:#ff8888\">때</span> <span style=\"background-color:#0000ff\">가</span> \n"
            ],
            "text/plain": [
              "<IPython.core.display.HTML object>"
            ]
          },
          "metadata": {
            "tags": []
          }
        },
        {
          "output_type": "stream",
          "text": [
            "-----------------------------------------------------------\n"
          ],
          "name": "stdout"
        }
      ]
    },
    {
      "cell_type": "code",
      "metadata": {
        "id": "BN_kZJSdnYrs",
        "colab_type": "code",
        "colab": {
          "base_uri": "https://localhost:8080/",
          "height": 1000
        },
        "outputId": "4649a36a-6742-4d5c-825a-8833e17d5d86"
      },
      "source": [
        "print(\"각 단어가 부정이라고 예측하는데 영향을 미치는 정도\" )\n",
        "for index, i in enumerate(negative_list):\n",
        "    \n",
        "    target_full_data = x_test[i]\n",
        "    target_data = target_full_data[target_full_data != 0]\n",
        "    target_class = np.argmax(y_test[i])\n",
        "\n",
        "    score, x, Gx, Rx, R_rest = lrp.run(target_data, target_class)\n",
        "\n",
        "    R_words_SA       = (np.linalg.norm(Gx, ord=2, axis=0))**2   # compute word-level Sensitivity Analysis relevances\n",
        "    R_words          = np.sum(Rx, axis=1)                       # compute word-level LRP relevances\n",
        "    \n",
        "    words = index_to_word(target_data) \n",
        "\n",
        "    if len(words) > 0 :\n",
        "        print(\" 예측 레이블:\", int_to_str(np.argmax(predictions[i])), \"| 실제 레이블 : \", int_to_str(target_class))\n",
        "\n",
        "        print(\"        SA heatmap:\")\n",
        "        display(HTML(html_heatmap(words, R_words_SA)))\n",
        "        \n",
        "        print(\"        LRP heatmap:\")\n",
        "        display(HTML(html_heatmap(words, R_words)))\n",
        "\n",
        "        print(\"-----------------------------------------------------------\")\n",
        "\n",
        "    if index == 20: # 20roaks 출력\n",
        "      break"
      ],
      "execution_count": null,
      "outputs": [
        {
          "output_type": "stream",
          "text": [
            "각 단어가 부정이라고 예측하는데 영향을 미치는 정도\n",
            "WARNING:tensorflow:11 out of the last 11 calls to <function Model.make_predict_function.<locals>.predict_function at 0x7ff784c011e0> triggered tf.function retracing. Tracing is expensive and the excessive number of tracings could be due to (1) creating @tf.function repeatedly in a loop, (2) passing tensors with different shapes, (3) passing Python objects instead of tensors. For (1), please define your @tf.function outside of the loop. For (2), @tf.function has experimental_relax_shapes=True option that relaxes argument shapes that can avoid unnecessary retracing. For (3), please refer to https://www.tensorflow.org/tutorials/customization/performance#python_or_tensor_args and https://www.tensorflow.org/api_docs/python/tf/function for  more details.\n",
            " 예측 레이블: 부정 | 실제 레이블 :  부정\n",
            "        SA heatmap:\n"
          ],
          "name": "stdout"
        },
        {
          "output_type": "display_data",
          "data": {
            "text/html": [
              "<span style=\"background-color:#fff0f0\">***</span> \n"
            ],
            "text/plain": [
              "<IPython.core.display.HTML object>"
            ]
          },
          "metadata": {
            "tags": []
          }
        },
        {
          "output_type": "stream",
          "text": [
            "        LRP heatmap:\n"
          ],
          "name": "stdout"
        },
        {
          "output_type": "display_data",
          "data": {
            "text/html": [
              "<span style=\"background-color:#ff0000\">***</span> \n"
            ],
            "text/plain": [
              "<IPython.core.display.HTML object>"
            ]
          },
          "metadata": {
            "tags": []
          }
        },
        {
          "output_type": "stream",
          "text": [
            "-----------------------------------------------------------\n",
            "WARNING:tensorflow:11 out of the last 11 calls to <function Model.make_predict_function.<locals>.predict_function at 0x7ff78a487ea0> triggered tf.function retracing. Tracing is expensive and the excessive number of tracings could be due to (1) creating @tf.function repeatedly in a loop, (2) passing tensors with different shapes, (3) passing Python objects instead of tensors. For (1), please define your @tf.function outside of the loop. For (2), @tf.function has experimental_relax_shapes=True option that relaxes argument shapes that can avoid unnecessary retracing. For (3), please refer to https://www.tensorflow.org/tutorials/customization/performance#python_or_tensor_args and https://www.tensorflow.org/api_docs/python/tf/function for  more details.\n",
            " 예측 레이블: 부정 | 실제 레이블 :  부정\n",
            "        SA heatmap:\n"
          ],
          "name": "stdout"
        },
        {
          "output_type": "display_data",
          "data": {
            "text/html": [
              "<span style=\"background-color:#ffd6d6\">뭐</span> <span style=\"background-color:#ffb0b0\">야</span> <span style=\"background-color:#fffefe\">이</span> <span style=\"background-color:#ffb0b0\">평점</span> <span style=\"background-color:#ffa3a3\">들</span> <span style=\"background-color:#ff6060\">은</span> <span style=\"background-color:#ffe8e8\">....</span> <span style=\"background-color:#fff8f8\">나쁘진</span> <span style=\"background-color:#ffd6d6\">않지만</span> <span style=\"background-color:#ffdada\">10</span> <span style=\"background-color:#ffaeae\">점</span> <span style=\"background-color:#ffeaea\">짜</span> <span style=\"background-color:#ff7979\">리</span> <span style=\"background-color:#ffbebe\">는</span> <span style=\"background-color:#fff6f6\">더</span> <span style=\"background-color:#ffc3c3\">더욱</span> <span style=\"background-color:#fffcfc\">아니잖아</span> \n"
            ],
            "text/plain": [
              "<IPython.core.display.HTML object>"
            ]
          },
          "metadata": {
            "tags": []
          }
        },
        {
          "output_type": "stream",
          "text": [
            "        LRP heatmap:\n"
          ],
          "name": "stdout"
        },
        {
          "output_type": "display_data",
          "data": {
            "text/html": [
              "<span style=\"background-color:#fffefe\">뭐</span> <span style=\"background-color:#fffefe\">야</span> <span style=\"background-color:#fffefe\">이</span> <span style=\"background-color:#fffefe\">평점</span> <span style=\"background-color:#fffefe\">들</span> <span style=\"background-color:#fffefe\">은</span> <span style=\"background-color:#fefeff\">....</span> <span style=\"background-color:#fefeff\">나쁘진</span> <span style=\"background-color:#fefeff\">않지만</span> <span style=\"background-color:#fefeff\">10</span> <span style=\"background-color:#fefeff\">점</span> <span style=\"background-color:#fffefe\">짜</span> <span style=\"background-color:#fffefe\">리</span> <span style=\"background-color:#fefeff\">는</span> <span style=\"background-color:#fcfcff\">더</span> <span style=\"background-color:#e3e3ff\">더욱</span> <span style=\"background-color:#ff0000\">아니잖아</span> \n"
            ],
            "text/plain": [
              "<IPython.core.display.HTML object>"
            ]
          },
          "metadata": {
            "tags": []
          }
        },
        {
          "output_type": "stream",
          "text": [
            "-----------------------------------------------------------\n",
            "WARNING:tensorflow:11 out of the last 11 calls to <function Model.make_predict_function.<locals>.predict_function at 0x7ff78a57ac80> triggered tf.function retracing. Tracing is expensive and the excessive number of tracings could be due to (1) creating @tf.function repeatedly in a loop, (2) passing tensors with different shapes, (3) passing Python objects instead of tensors. For (1), please define your @tf.function outside of the loop. For (2), @tf.function has experimental_relax_shapes=True option that relaxes argument shapes that can avoid unnecessary retracing. For (3), please refer to https://www.tensorflow.org/tutorials/customization/performance#python_or_tensor_args and https://www.tensorflow.org/api_docs/python/tf/function for  more details.\n",
            " 예측 레이블: 부정 | 실제 레이블 :  부정\n",
            "        SA heatmap:\n"
          ],
          "name": "stdout"
        },
        {
          "output_type": "display_data",
          "data": {
            "text/html": [
              "<span style=\"background-color:#ffcece\">***</span> <span style=\"background-color:#ffbcbc\">않은데</span> <span style=\"background-color:#fff0f0\">완전</span> <span style=\"background-color:#fff6f6\">막장</span> <span style=\"background-color:#ff8282\">임</span> <span style=\"background-color:#ff6969\">...</span> <span style=\"background-color:#ffeaea\">돈</span> <span style=\"background-color:#ffeeee\">주고</span> <span style=\"background-color:#ffe0e0\">보기</span> <span style=\"background-color:#ffdede\">에는</span> <span style=\"background-color:#ff6969\">....</span> \n"
            ],
            "text/plain": [
              "<IPython.core.display.HTML object>"
            ]
          },
          "metadata": {
            "tags": []
          }
        },
        {
          "output_type": "stream",
          "text": [
            "        LRP heatmap:\n"
          ],
          "name": "stdout"
        },
        {
          "output_type": "display_data",
          "data": {
            "text/html": [
              "<span style=\"background-color:#fffefe\">***</span> <span style=\"background-color:#fefeff\">않은데</span> <span style=\"background-color:#fefeff\">완전</span> <span style=\"background-color:#fffefe\">막장</span> <span style=\"background-color:#fefeff\">임</span> <span style=\"background-color:#fffefe\">...</span> <span style=\"background-color:#fff6f6\">돈</span> <span style=\"background-color:#fffcfc\">주고</span> <span style=\"background-color:#fff0f0\">보기</span> <span style=\"background-color:#fff4f4\">에는</span> <span style=\"background-color:#ff0000\">....</span> \n"
            ],
            "text/plain": [
              "<IPython.core.display.HTML object>"
            ]
          },
          "metadata": {
            "tags": []
          }
        },
        {
          "output_type": "stream",
          "text": [
            "-----------------------------------------------------------\n",
            "WARNING:tensorflow:11 out of the last 11 calls to <function Model.make_predict_function.<locals>.predict_function at 0x7ff785c15ae8> triggered tf.function retracing. Tracing is expensive and the excessive number of tracings could be due to (1) creating @tf.function repeatedly in a loop, (2) passing tensors with different shapes, (3) passing Python objects instead of tensors. For (1), please define your @tf.function outside of the loop. For (2), @tf.function has experimental_relax_shapes=True option that relaxes argument shapes that can avoid unnecessary retracing. For (3), please refer to https://www.tensorflow.org/tutorials/customization/performance#python_or_tensor_args and https://www.tensorflow.org/api_docs/python/tf/function for  more details.\n",
            " 예측 레이블: 부정 | 실제 레이블 :  부정\n",
            "        SA heatmap:\n"
          ],
          "name": "stdout"
        },
        {
          "output_type": "display_data",
          "data": {
            "text/html": [
              "<span style=\"background-color:#ffd0d0\">3</span> <span style=\"background-color:#ffc3c3\">D</span> <span style=\"background-color:#fff0f0\">만</span> <span style=\"background-color:#fffafa\">***</span> <span style=\"background-color:#ff7c7c\">별</span> <span style=\"background-color:#ff7676\">다섯</span> <span style=\"background-color:#ffe8e8\">개</span> <span style=\"background-color:#ffeaea\">줬을텐데</span> <span style=\"background-color:#ffe0e0\">..</span> <span style=\"background-color:#ffe4e4\">왜</span> <span style=\"background-color:#ff5959\">3</span> <span style=\"background-color:#ffdcdc\">D</span> <span style=\"background-color:#ff8686\">로</span> <span style=\"background-color:#ffc3c3\">나와서</span> <span style=\"background-color:#fff6f6\">제</span> <span style=\"background-color:#ffb8b8\">***</span> <span style=\"background-color:#ffdada\">를</span> <span style=\"background-color:#ffe8e8\">***</span> <span style=\"background-color:#ffb3b3\">하죠</span> <span style=\"background-color:#ffd8d8\">??</span> \n"
            ],
            "text/plain": [
              "<IPython.core.display.HTML object>"
            ]
          },
          "metadata": {
            "tags": []
          }
        },
        {
          "output_type": "stream",
          "text": [
            "        LRP heatmap:\n"
          ],
          "name": "stdout"
        },
        {
          "output_type": "display_data",
          "data": {
            "text/html": [
              "<span style=\"background-color:#fffefe\">3</span> <span style=\"background-color:#fffefe\">D</span> <span style=\"background-color:#fefeff\">만</span> <span style=\"background-color:#fffefe\">***</span> <span style=\"background-color:#fefeff\">별</span> <span style=\"background-color:#fefeff\">다섯</span> <span style=\"background-color:#fefeff\">개</span> <span style=\"background-color:#fffefe\">줬을텐데</span> <span style=\"background-color:#fefeff\">..</span> <span style=\"background-color:#fefeff\">왜</span> <span style=\"background-color:#fefeff\">3</span> <span style=\"background-color:#fefeff\">D</span> <span style=\"background-color:#fefeff\">로</span> <span style=\"background-color:#fefeff\">나와서</span> <span style=\"background-color:#fefeff\">제</span> <span style=\"background-color:#fffefe\">***</span> <span style=\"background-color:#fefeff\">를</span> <span style=\"background-color:#fffefe\">***</span> <span style=\"background-color:#0000ff\">하죠</span> <span style=\"background-color:#ff8a8a\">??</span> \n"
            ],
            "text/plain": [
              "<IPython.core.display.HTML object>"
            ]
          },
          "metadata": {
            "tags": []
          }
        },
        {
          "output_type": "stream",
          "text": [
            "-----------------------------------------------------------\n",
            "WARNING:tensorflow:11 out of the last 11 calls to <function Model.make_predict_function.<locals>.predict_function at 0x7ff784c01730> triggered tf.function retracing. Tracing is expensive and the excessive number of tracings could be due to (1) creating @tf.function repeatedly in a loop, (2) passing tensors with different shapes, (3) passing Python objects instead of tensors. For (1), please define your @tf.function outside of the loop. For (2), @tf.function has experimental_relax_shapes=True option that relaxes argument shapes that can avoid unnecessary retracing. For (3), please refer to https://www.tensorflow.org/tutorials/customization/performance#python_or_tensor_args and https://www.tensorflow.org/api_docs/python/tf/function for  more details.\n",
            " 예측 레이블: 부정 | 실제 레이블 :  부정\n",
            "        SA heatmap:\n"
          ],
          "name": "stdout"
        },
        {
          "output_type": "display_data",
          "data": {
            "text/html": [
              "<span style=\"background-color:#ffd6d6\">진정한</span> <span style=\"background-color:#ffacac\">쓰레기</span> \n"
            ],
            "text/plain": [
              "<IPython.core.display.HTML object>"
            ]
          },
          "metadata": {
            "tags": []
          }
        },
        {
          "output_type": "stream",
          "text": [
            "        LRP heatmap:\n"
          ],
          "name": "stdout"
        },
        {
          "output_type": "display_data",
          "data": {
            "text/html": [
              "<span style=\"background-color:#e3e3ff\">진정한</span> <span style=\"background-color:#ff0000\">쓰레기</span> \n"
            ],
            "text/plain": [
              "<IPython.core.display.HTML object>"
            ]
          },
          "metadata": {
            "tags": []
          }
        },
        {
          "output_type": "stream",
          "text": [
            "-----------------------------------------------------------\n",
            "WARNING:tensorflow:11 out of the last 11 calls to <function Model.make_predict_function.<locals>.predict_function at 0x7ff7843a7ea0> triggered tf.function retracing. Tracing is expensive and the excessive number of tracings could be due to (1) creating @tf.function repeatedly in a loop, (2) passing tensors with different shapes, (3) passing Python objects instead of tensors. For (1), please define your @tf.function outside of the loop. For (2), @tf.function has experimental_relax_shapes=True option that relaxes argument shapes that can avoid unnecessary retracing. For (3), please refer to https://www.tensorflow.org/tutorials/customization/performance#python_or_tensor_args and https://www.tensorflow.org/api_docs/python/tf/function for  more details.\n",
            " 예측 레이블: 부정 | 실제 레이블 :  부정\n",
            "        SA heatmap:\n"
          ],
          "name": "stdout"
        },
        {
          "output_type": "display_data",
          "data": {
            "text/html": [
              "<span style=\"background-color:#ffd0d0\">마치</span> <span style=\"background-color:#ffc3c3\">미국</span> <span style=\"background-color:#ffecec\">애니</span> <span style=\"background-color:#fffefe\">에서</span> <span style=\"background-color:#ff7e7e\">***</span> <span style=\"background-color:#ff7979\">한</span> <span style=\"background-color:#ffecec\">***</span> <span style=\"background-color:#ffeaea\">없는</span> <span style=\"background-color:#ffe4e4\">로봇</span> <span style=\"background-color:#ffe2e2\">디자인</span> <span style=\"background-color:#ff5c5c\">부터가</span> <span style=\"background-color:#ffdede\">,</span> <span style=\"background-color:#ff8383\">고개</span> <span style=\"background-color:#ffc3c3\">를</span> <span style=\"background-color:#fff6f6\">***</span> <span style=\"background-color:#ffbaba\">한다</span> \n"
            ],
            "text/plain": [
              "<IPython.core.display.HTML object>"
            ]
          },
          "metadata": {
            "tags": []
          }
        },
        {
          "output_type": "stream",
          "text": [
            "        LRP heatmap:\n"
          ],
          "name": "stdout"
        },
        {
          "output_type": "display_data",
          "data": {
            "text/html": [
              "<span style=\"background-color:#fffefe\">마치</span> <span style=\"background-color:#fffefe\">미국</span> <span style=\"background-color:#fffefe\">애니</span> <span style=\"background-color:#fffefe\">에서</span> <span style=\"background-color:#fffefe\">***</span> <span style=\"background-color:#fffefe\">한</span> <span style=\"background-color:#fffefe\">***</span> <span style=\"background-color:#fffefe\">없는</span> <span style=\"background-color:#fffefe\">로봇</span> <span style=\"background-color:#fffefe\">디자인</span> <span style=\"background-color:#fffefe\">부터가</span> <span style=\"background-color:#fefeff\">,</span> <span style=\"background-color:#fffcfc\">고개</span> <span style=\"background-color:#f8f8ff\">를</span> <span style=\"background-color:#ffe4e4\">***</span> <span style=\"background-color:#0000ff\">한다</span> \n"
            ],
            "text/plain": [
              "<IPython.core.display.HTML object>"
            ]
          },
          "metadata": {
            "tags": []
          }
        },
        {
          "output_type": "stream",
          "text": [
            "-----------------------------------------------------------\n",
            "WARNING:tensorflow:11 out of the last 11 calls to <function Model.make_predict_function.<locals>.predict_function at 0x7ff7843a7b70> triggered tf.function retracing. Tracing is expensive and the excessive number of tracings could be due to (1) creating @tf.function repeatedly in a loop, (2) passing tensors with different shapes, (3) passing Python objects instead of tensors. For (1), please define your @tf.function outside of the loop. For (2), @tf.function has experimental_relax_shapes=True option that relaxes argument shapes that can avoid unnecessary retracing. For (3), please refer to https://www.tensorflow.org/tutorials/customization/performance#python_or_tensor_args and https://www.tensorflow.org/api_docs/python/tf/function for  more details.\n",
            " 예측 레이블: 부정 | 실제 레이블 :  부정\n",
            "        SA heatmap:\n"
          ],
          "name": "stdout"
        },
        {
          "output_type": "display_data",
          "data": {
            "text/html": [
              "<span style=\"background-color:#ffd2d2\">***</span> <span style=\"background-color:#ffb3b3\">중국영화</span> <span style=\"background-color:#fff4f4\">유치하고</span> <span style=\"background-color:#ffd3d3\">내용</span> <span style=\"background-color:#ff8888\">없음</span> <span style=\"background-color:#ff6464\">폼</span> <span style=\"background-color:#ffe4e4\">잡다</span> <span style=\"background-color:#fff2f2\">끝남</span> <span style=\"background-color:#ffdede\">말</span> <span style=\"background-color:#ffd8d8\">도</span> <span style=\"background-color:#ff8e8e\">안되는</span> <span style=\"background-color:#ffeaea\">무기</span> <span style=\"background-color:#ff7979\">에</span> <span style=\"background-color:#ffb3b3\">유치한</span> <span style=\"background-color:#fff6f6\">cg</span> <span style=\"background-color:#ffc3c3\">***</span> <span style=\"background-color:#fff2f2\">아</span> <span style=\"background-color:#ffecec\">그립다</span> <span style=\"background-color:#ffa8a8\">***</span> <span style=\"background-color:#ffeaea\">같은</span> <span style=\"background-color:#ffa8a8\">영화</span> <span style=\"background-color:#ff9393\">가</span> <span style=\"background-color:#ff2626\">이</span> <span style=\"background-color:#fff6f6\">것</span> <span style=\"background-color:#ffc3c3\">은</span> <span style=\"background-color:#ffd0d0\">3</span> <span style=\"background-color:#ffd0d0\">류</span> <span style=\"background-color:#ff3434\">아</span> <span style=\"background-color:#ffd8d8\">류작</span> <span style=\"background-color:#ff7c7c\">이다</span> \n"
            ],
            "text/plain": [
              "<IPython.core.display.HTML object>"
            ]
          },
          "metadata": {
            "tags": []
          }
        },
        {
          "output_type": "stream",
          "text": [
            "        LRP heatmap:\n"
          ],
          "name": "stdout"
        },
        {
          "output_type": "display_data",
          "data": {
            "text/html": [
              "<span style=\"background-color:#fffefe\">***</span> <span style=\"background-color:#fffefe\">중국영화</span> <span style=\"background-color:#fffefe\">유치하고</span> <span style=\"background-color:#fffefe\">내용</span> <span style=\"background-color:#fefeff\">없음</span> <span style=\"background-color:#fffefe\">폼</span> <span style=\"background-color:#fffefe\">잡다</span> <span style=\"background-color:#fffefe\">끝남</span> <span style=\"background-color:#fffefe\">말</span> <span style=\"background-color:#fffefe\">도</span> <span style=\"background-color:#fffefe\">안되는</span> <span style=\"background-color:#fefeff\">무기</span> <span style=\"background-color:#fefeff\">에</span> <span style=\"background-color:#fffefe\">유치한</span> <span style=\"background-color:#fffefe\">cg</span> <span style=\"background-color:#fefeff\">***</span> <span style=\"background-color:#fefeff\">아</span> <span style=\"background-color:#fefeff\">그립다</span> <span style=\"background-color:#fefeff\">***</span> <span style=\"background-color:#fefeff\">같은</span> <span style=\"background-color:#fffefe\">영화</span> <span style=\"background-color:#fffefe\">가</span> <span style=\"background-color:#fffefe\">이</span> <span style=\"background-color:#fffefe\">것</span> <span style=\"background-color:#fffefe\">은</span> <span style=\"background-color:#fffefe\">3</span> <span style=\"background-color:#fffefe\">류</span> <span style=\"background-color:#fffefe\">아</span> <span style=\"background-color:#ff0000\">류작</span> <span style=\"background-color:#c6c6ff\">이다</span> \n"
            ],
            "text/plain": [
              "<IPython.core.display.HTML object>"
            ]
          },
          "metadata": {
            "tags": []
          }
        },
        {
          "output_type": "stream",
          "text": [
            "-----------------------------------------------------------\n",
            "WARNING:tensorflow:11 out of the last 11 calls to <function Model.make_predict_function.<locals>.predict_function at 0x7ff785c4b6a8> triggered tf.function retracing. Tracing is expensive and the excessive number of tracings could be due to (1) creating @tf.function repeatedly in a loop, (2) passing tensors with different shapes, (3) passing Python objects instead of tensors. For (1), please define your @tf.function outside of the loop. For (2), @tf.function has experimental_relax_shapes=True option that relaxes argument shapes that can avoid unnecessary retracing. For (3), please refer to https://www.tensorflow.org/tutorials/customization/performance#python_or_tensor_args and https://www.tensorflow.org/api_docs/python/tf/function for  more details.\n",
            " 예측 레이블: 부정 | 실제 레이블 :  부정\n",
            "        SA heatmap:\n"
          ],
          "name": "stdout"
        },
        {
          "output_type": "display_data",
          "data": {
            "text/html": [
              "<span style=\"background-color:#ffd2d2\">한국</span> <span style=\"background-color:#ffc6c6\">독립영화</span> <span style=\"background-color:#ffeeee\">의</span> <span style=\"background-color:#fffefe\">한계</span> <span style=\"background-color:#ff7e7e\">그렇게</span> <span style=\"background-color:#ff7e7e\">아버지</span> <span style=\"background-color:#ffecec\">가</span> <span style=\"background-color:#ffeaea\">***</span> <span style=\"background-color:#ffe4e4\">비교</span> <span style=\"background-color:#ffe2e2\">됨</span> \n"
            ],
            "text/plain": [
              "<IPython.core.display.HTML object>"
            ]
          },
          "metadata": {
            "tags": []
          }
        },
        {
          "output_type": "stream",
          "text": [
            "        LRP heatmap:\n"
          ],
          "name": "stdout"
        },
        {
          "output_type": "display_data",
          "data": {
            "text/html": [
              "<span style=\"background-color:#fffefe\">한국</span> <span style=\"background-color:#fffefe\">독립영화</span> <span style=\"background-color:#fefeff\">의</span> <span style=\"background-color:#fefeff\">한계</span> <span style=\"background-color:#fffefe\">그렇게</span> <span style=\"background-color:#fefeff\">아버지</span> <span style=\"background-color:#fefeff\">가</span> <span style=\"background-color:#fefeff\">***</span> <span style=\"background-color:#fff6f6\">비교</span> <span style=\"background-color:#0000ff\">됨</span> \n"
            ],
            "text/plain": [
              "<IPython.core.display.HTML object>"
            ]
          },
          "metadata": {
            "tags": []
          }
        },
        {
          "output_type": "stream",
          "text": [
            "-----------------------------------------------------------\n",
            "WARNING:tensorflow:11 out of the last 11 calls to <function Model.make_predict_function.<locals>.predict_function at 0x7ff784c01730> triggered tf.function retracing. Tracing is expensive and the excessive number of tracings could be due to (1) creating @tf.function repeatedly in a loop, (2) passing tensors with different shapes, (3) passing Python objects instead of tensors. For (1), please define your @tf.function outside of the loop. For (2), @tf.function has experimental_relax_shapes=True option that relaxes argument shapes that can avoid unnecessary retracing. For (3), please refer to https://www.tensorflow.org/tutorials/customization/performance#python_or_tensor_args and https://www.tensorflow.org/api_docs/python/tf/function for  more details.\n",
            " 예측 레이블: 부정 | 실제 레이블 :  부정\n",
            "        SA heatmap:\n"
          ],
          "name": "stdout"
        },
        {
          "output_type": "display_data",
          "data": {
            "text/html": [
              "<span style=\"background-color:#ffcece\">이런</span> <span style=\"background-color:#ffbebe\">영화</span> <span style=\"background-color:#fff0f0\">***</span> <span style=\"background-color:#fffafa\">***</span> <span style=\"background-color:#ff7878\">감독</span> <span style=\"background-color:#ff7070\">은</span> <span style=\"background-color:#ffe8e8\">\"\"\"\"</span> <span style=\"background-color:#ffecec\">내</span> <span style=\"background-color:#ffdede\">가</span> <span style=\"background-color:#ffdede\">영화</span> <span style=\"background-color:#ff5e5e\">경력</span> <span style=\"background-color:#ffe0e0\">이</span> <span style=\"background-color:#ff7979\">몇</span> <span style=\"background-color:#ffc0c0\">OO</span> <span style=\"background-color:#fff4f4\">인데</span> <span style=\"background-color:#ffbaba\">***</span> <span style=\"background-color:#ffe0e0\">들</span> <span style=\"background-color:#ffe8e8\">이</span> <span style=\"background-color:#ffb0b0\">내</span> <span style=\"background-color:#ffdada\">영화</span> <span style=\"background-color:#ff7e7e\">를</span> <span style=\"background-color:#ff6969\">평론</span> <span style=\"background-color:#ff2020\">해</span> <span style=\"background-color:#fff6f6\">?\"\"\"\"</span> <span style=\"background-color:#ffe2e2\">같은</span> <span style=\"background-color:#ffcaca\">마인드</span> <span style=\"background-color:#ffdede\">에</span> <span style=\"background-color:#ff1919\">***</span> <span style=\"background-color:#ffd0d0\">***</span> \n"
            ],
            "text/plain": [
              "<IPython.core.display.HTML object>"
            ]
          },
          "metadata": {
            "tags": []
          }
        },
        {
          "output_type": "stream",
          "text": [
            "        LRP heatmap:\n"
          ],
          "name": "stdout"
        },
        {
          "output_type": "display_data",
          "data": {
            "text/html": [
              "<span style=\"background-color:#fffefe\">이런</span> <span style=\"background-color:#fffefe\">영화</span> <span style=\"background-color:#fefeff\">***</span> <span style=\"background-color:#fefeff\">***</span> <span style=\"background-color:#fefeff\">감독</span> <span style=\"background-color:#fffefe\">은</span> <span style=\"background-color:#fffefe\">\"\"\"\"</span> <span style=\"background-color:#fefeff\">내</span> <span style=\"background-color:#fefeff\">가</span> <span style=\"background-color:#fefeff\">영화</span> <span style=\"background-color:#fffefe\">경력</span> <span style=\"background-color:#fffefe\">이</span> <span style=\"background-color:#fffefe\">몇</span> <span style=\"background-color:#fffefe\">OO</span> <span style=\"background-color:#fefeff\">인데</span> <span style=\"background-color:#fefeff\">***</span> <span style=\"background-color:#fefeff\">들</span> <span style=\"background-color:#fefeff\">이</span> <span style=\"background-color:#fefeff\">내</span> <span style=\"background-color:#fffefe\">영화</span> <span style=\"background-color:#fffefe\">를</span> <span style=\"background-color:#fffefe\">평론</span> <span style=\"background-color:#fffefe\">해</span> <span style=\"background-color:#fefeff\">?\"\"\"\"</span> <span style=\"background-color:#fffafa\">같은</span> <span style=\"background-color:#ffdcdc\">마인드</span> <span style=\"background-color:#f3f3ff\">에</span> <span style=\"background-color:#ff7c7c\">***</span> <span style=\"background-color:#ff0000\">***</span> \n"
            ],
            "text/plain": [
              "<IPython.core.display.HTML object>"
            ]
          },
          "metadata": {
            "tags": []
          }
        },
        {
          "output_type": "stream",
          "text": [
            "-----------------------------------------------------------\n",
            "WARNING:tensorflow:11 out of the last 11 calls to <function Model.make_predict_function.<locals>.predict_function at 0x7ff785c15d08> triggered tf.function retracing. Tracing is expensive and the excessive number of tracings could be due to (1) creating @tf.function repeatedly in a loop, (2) passing tensors with different shapes, (3) passing Python objects instead of tensors. For (1), please define your @tf.function outside of the loop. For (2), @tf.function has experimental_relax_shapes=True option that relaxes argument shapes that can avoid unnecessary retracing. For (3), please refer to https://www.tensorflow.org/tutorials/customization/performance#python_or_tensor_args and https://www.tensorflow.org/api_docs/python/tf/function for  more details.\n",
            " 예측 레이블: 부정 | 실제 레이블 :  긍정\n",
            "        SA heatmap:\n"
          ],
          "name": "stdout"
        },
        {
          "output_type": "display_data",
          "data": {
            "text/html": [
              "<span style=\"background-color:#ffdada\">소위</span> <span style=\"background-color:#ffcccc\">ㅈ</span> <span style=\"background-color:#fffafa\">문</span> <span style=\"background-color:#ffd8d8\">가라</span> <span style=\"background-color:#ff8e8e\">는</span> <span style=\"background-color:#ff6060\">평점</span> <span style=\"background-color:#ffe4e4\">은</span> <span style=\"background-color:#fff6f6\">뭐</span> <span style=\"background-color:#ffe0e0\">냐</span> <span style=\"background-color:#ffdcdc\">?</span> \n"
            ],
            "text/plain": [
              "<IPython.core.display.HTML object>"
            ]
          },
          "metadata": {
            "tags": []
          }
        },
        {
          "output_type": "stream",
          "text": [
            "        LRP heatmap:\n"
          ],
          "name": "stdout"
        },
        {
          "output_type": "display_data",
          "data": {
            "text/html": [
              "<span style=\"background-color:#fefeff\">소위</span> <span style=\"background-color:#fefeff\">ㅈ</span> <span style=\"background-color:#fefeff\">문</span> <span style=\"background-color:#fffefe\">가라</span> <span style=\"background-color:#fefeff\">는</span> <span style=\"background-color:#fffefe\">평점</span> <span style=\"background-color:#fffefe\">은</span> <span style=\"background-color:#fffefe\">뭐</span> <span style=\"background-color:#9393ff\">냐</span> <span style=\"background-color:#0000ff\">?</span> \n"
            ],
            "text/plain": [
              "<IPython.core.display.HTML object>"
            ]
          },
          "metadata": {
            "tags": []
          }
        },
        {
          "output_type": "stream",
          "text": [
            "-----------------------------------------------------------\n",
            "WARNING:tensorflow:11 out of the last 11 calls to <function Model.make_predict_function.<locals>.predict_function at 0x7ff8391c8510> triggered tf.function retracing. Tracing is expensive and the excessive number of tracings could be due to (1) creating @tf.function repeatedly in a loop, (2) passing tensors with different shapes, (3) passing Python objects instead of tensors. For (1), please define your @tf.function outside of the loop. For (2), @tf.function has experimental_relax_shapes=True option that relaxes argument shapes that can avoid unnecessary retracing. For (3), please refer to https://www.tensorflow.org/tutorials/customization/performance#python_or_tensor_args and https://www.tensorflow.org/api_docs/python/tf/function for  more details.\n",
            " 예측 레이블: 부정 | 실제 레이블 :  부정\n",
            "        SA heatmap:\n"
          ],
          "name": "stdout"
        },
        {
          "output_type": "display_data",
          "data": {
            "text/html": [
              "<span style=\"background-color:#ffd2d2\">발연기</span> <span style=\"background-color:#ffbaba\">도저히</span> <span style=\"background-color:#fff4f4\">못</span> <span style=\"background-color:#ffe8e8\">보겠다</span> <span style=\"background-color:#ff8888\">진짜</span> <span style=\"background-color:#ff6464\">이렇게</span> <span style=\"background-color:#ffe6e6\">연기</span> <span style=\"background-color:#fff2f2\">를</span> <span style=\"background-color:#ffdede\">못</span> <span style=\"background-color:#ffdada\">***</span> <span style=\"background-color:#ff8282\">상상</span> <span style=\"background-color:#ffe6e6\">도</span> <span style=\"background-color:#ff7979\">못</span> <span style=\"background-color:#ffbcbc\">했네</span> \n"
            ],
            "text/plain": [
              "<IPython.core.display.HTML object>"
            ]
          },
          "metadata": {
            "tags": []
          }
        },
        {
          "output_type": "stream",
          "text": [
            "        LRP heatmap:\n"
          ],
          "name": "stdout"
        },
        {
          "output_type": "display_data",
          "data": {
            "text/html": [
              "<span style=\"background-color:#fefeff\">발연기</span> <span style=\"background-color:#fffefe\">도저히</span> <span style=\"background-color:#fffefe\">못</span> <span style=\"background-color:#fefeff\">보겠다</span> <span style=\"background-color:#fefeff\">진짜</span> <span style=\"background-color:#fefeff\">이렇게</span> <span style=\"background-color:#fffefe\">연기</span> <span style=\"background-color:#fefeff\">를</span> <span style=\"background-color:#fffefe\">못</span> <span style=\"background-color:#fffefe\">***</span> <span style=\"background-color:#fefeff\">상상</span> <span style=\"background-color:#ffe8e8\">도</span> <span style=\"background-color:#ff5858\">못</span> <span style=\"background-color:#ff0000\">했네</span> \n"
            ],
            "text/plain": [
              "<IPython.core.display.HTML object>"
            ]
          },
          "metadata": {
            "tags": []
          }
        },
        {
          "output_type": "stream",
          "text": [
            "-----------------------------------------------------------\n",
            "WARNING:tensorflow:11 out of the last 11 calls to <function Model.make_predict_function.<locals>.predict_function at 0x7ff783b6c8c8> triggered tf.function retracing. Tracing is expensive and the excessive number of tracings could be due to (1) creating @tf.function repeatedly in a loop, (2) passing tensors with different shapes, (3) passing Python objects instead of tensors. For (1), please define your @tf.function outside of the loop. For (2), @tf.function has experimental_relax_shapes=True option that relaxes argument shapes that can avoid unnecessary retracing. For (3), please refer to https://www.tensorflow.org/tutorials/customization/performance#python_or_tensor_args and https://www.tensorflow.org/api_docs/python/tf/function for  more details.\n",
            " 예측 레이블: 부정 | 실제 레이블 :  긍정\n",
            "        SA heatmap:\n"
          ],
          "name": "stdout"
        },
        {
          "output_type": "display_data",
          "data": {
            "text/html": [
              "<span style=\"background-color:#fff6f6\">***</span> \n"
            ],
            "text/plain": [
              "<IPython.core.display.HTML object>"
            ]
          },
          "metadata": {
            "tags": []
          }
        },
        {
          "output_type": "stream",
          "text": [
            "        LRP heatmap:\n"
          ],
          "name": "stdout"
        },
        {
          "output_type": "display_data",
          "data": {
            "text/html": [
              "<span style=\"background-color:#0000ff\">***</span> \n"
            ],
            "text/plain": [
              "<IPython.core.display.HTML object>"
            ]
          },
          "metadata": {
            "tags": []
          }
        },
        {
          "output_type": "stream",
          "text": [
            "-----------------------------------------------------------\n",
            "WARNING:tensorflow:11 out of the last 11 calls to <function Model.make_predict_function.<locals>.predict_function at 0x7ff78a57a400> triggered tf.function retracing. Tracing is expensive and the excessive number of tracings could be due to (1) creating @tf.function repeatedly in a loop, (2) passing tensors with different shapes, (3) passing Python objects instead of tensors. For (1), please define your @tf.function outside of the loop. For (2), @tf.function has experimental_relax_shapes=True option that relaxes argument shapes that can avoid unnecessary retracing. For (3), please refer to https://www.tensorflow.org/tutorials/customization/performance#python_or_tensor_args and https://www.tensorflow.org/api_docs/python/tf/function for  more details.\n",
            " 예측 레이블: 부정 | 실제 레이블 :  부정\n",
            "        SA heatmap:\n"
          ],
          "name": "stdout"
        },
        {
          "output_type": "display_data",
          "data": {
            "text/html": [
              "<span style=\"background-color:#ffd0d0\">별</span> <span style=\"background-color:#ffc0c0\">재미</span> <span style=\"background-color:#ffeeee\">도</span> <span style=\"background-color:#fffafa\">없는거</span> <span style=\"background-color:#ff7878\">우려</span> <span style=\"background-color:#ff7070\">먹어</span> <span style=\"background-color:#ffe8e8\">....</span> <span style=\"background-color:#ffeaea\">***</span> <span style=\"background-color:#ffe2e2\">에서</span> <span style=\"background-color:#ffe0e0\">방송</span> <span style=\"background-color:#ff5c5c\">몇번</span> <span style=\"background-color:#ffe0e0\">***</span> <span style=\"background-color:#ff7c7c\">?</span> <span style=\"background-color:#ffbebe\">ㅋㅋㅋ</span> \n"
            ],
            "text/plain": [
              "<IPython.core.display.HTML object>"
            ]
          },
          "metadata": {
            "tags": []
          }
        },
        {
          "output_type": "stream",
          "text": [
            "        LRP heatmap:\n"
          ],
          "name": "stdout"
        },
        {
          "output_type": "display_data",
          "data": {
            "text/html": [
              "<span style=\"background-color:#fefeff\">별</span> <span style=\"background-color:#fefeff\">재미</span> <span style=\"background-color:#fefeff\">도</span> <span style=\"background-color:#fefeff\">없는거</span> <span style=\"background-color:#fffefe\">우려</span> <span style=\"background-color:#fffefe\">먹어</span> <span style=\"background-color:#fffefe\">....</span> <span style=\"background-color:#fefeff\">***</span> <span style=\"background-color:#fffefe\">에서</span> <span style=\"background-color:#fffcfc\">방송</span> <span style=\"background-color:#fffafa\">몇번</span> <span style=\"background-color:#fefeff\">***</span> <span style=\"background-color:#ff8a8a\">?</span> <span style=\"background-color:#0000ff\">ㅋㅋㅋ</span> \n"
            ],
            "text/plain": [
              "<IPython.core.display.HTML object>"
            ]
          },
          "metadata": {
            "tags": []
          }
        },
        {
          "output_type": "stream",
          "text": [
            "-----------------------------------------------------------\n",
            "WARNING:tensorflow:11 out of the last 11 calls to <function Model.make_predict_function.<locals>.predict_function at 0x7ff783b6ce18> triggered tf.function retracing. Tracing is expensive and the excessive number of tracings could be due to (1) creating @tf.function repeatedly in a loop, (2) passing tensors with different shapes, (3) passing Python objects instead of tensors. For (1), please define your @tf.function outside of the loop. For (2), @tf.function has experimental_relax_shapes=True option that relaxes argument shapes that can avoid unnecessary retracing. For (3), please refer to https://www.tensorflow.org/tutorials/customization/performance#python_or_tensor_args and https://www.tensorflow.org/api_docs/python/tf/function for  more details.\n",
            " 예측 레이블: 부정 | 실제 레이블 :  부정\n",
            "        SA heatmap:\n"
          ],
          "name": "stdout"
        },
        {
          "output_type": "display_data",
          "data": {
            "text/html": [
              "<span style=\"background-color:#ffd6d6\">나름</span> <span style=\"background-color:#ffb8b8\">교훈</span> <span style=\"background-color:#fff8f8\">***</span> <span style=\"background-color:#ffd6d6\">하지만</span> <span style=\"background-color:#ff8e8e\">어쩔</span> <span style=\"background-color:#ff6060\">수없이</span> <span style=\"background-color:#ffe6e6\">저</span> <span style=\"background-color:#fff4f4\">평점</span> <span style=\"background-color:#ffdcdc\">***</span> <span style=\"background-color:#ffdada\">없는</span> <span style=\"background-color:#ff9292\">저</span> <span style=\"background-color:#ffe8e8\">질</span> <span style=\"background-color:#ff7979\">섹스</span> <span style=\"background-color:#ffbaba\">코미디</span> \n"
            ],
            "text/plain": [
              "<IPython.core.display.HTML object>"
            ]
          },
          "metadata": {
            "tags": []
          }
        },
        {
          "output_type": "stream",
          "text": [
            "        LRP heatmap:\n"
          ],
          "name": "stdout"
        },
        {
          "output_type": "display_data",
          "data": {
            "text/html": [
              "<span style=\"background-color:#fffefe\">나름</span> <span style=\"background-color:#fffefe\">교훈</span> <span style=\"background-color:#fffefe\">***</span> <span style=\"background-color:#fffefe\">하지만</span> <span style=\"background-color:#fffefe\">어쩔</span> <span style=\"background-color:#fffefe\">수없이</span> <span style=\"background-color:#fefeff\">저</span> <span style=\"background-color:#fffefe\">평점</span> <span style=\"background-color:#fffefe\">***</span> <span style=\"background-color:#fffefe\">없는</span> <span style=\"background-color:#fefeff\">저</span> <span style=\"background-color:#fffefe\">질</span> <span style=\"background-color:#ff7878\">섹스</span> <span style=\"background-color:#ff0000\">코미디</span> \n"
            ],
            "text/plain": [
              "<IPython.core.display.HTML object>"
            ]
          },
          "metadata": {
            "tags": []
          }
        },
        {
          "output_type": "stream",
          "text": [
            "-----------------------------------------------------------\n",
            "WARNING:tensorflow:11 out of the last 11 calls to <function Model.make_predict_function.<locals>.predict_function at 0x7ff78a487048> triggered tf.function retracing. Tracing is expensive and the excessive number of tracings could be due to (1) creating @tf.function repeatedly in a loop, (2) passing tensors with different shapes, (3) passing Python objects instead of tensors. For (1), please define your @tf.function outside of the loop. For (2), @tf.function has experimental_relax_shapes=True option that relaxes argument shapes that can avoid unnecessary retracing. For (3), please refer to https://www.tensorflow.org/tutorials/customization/performance#python_or_tensor_args and https://www.tensorflow.org/api_docs/python/tf/function for  more details.\n",
            " 예측 레이블: 부정 | 실제 레이블 :  부정\n",
            "        SA heatmap:\n"
          ],
          "name": "stdout"
        },
        {
          "output_type": "display_data",
          "data": {
            "text/html": [
              "<span style=\"background-color:#ffcece\">일본</span> <span style=\"background-color:#ffbebe\">***</span> <span style=\"background-color:#fff0f0\">이</span> <span style=\"background-color:#fffafa\">미국</span> <span style=\"background-color:#ff7878\">***</span> <span style=\"background-color:#ff7070\">받은</span> <span style=\"background-color:#ffe8e8\">***</span> <span style=\"background-color:#ffecec\">의</span> <span style=\"background-color:#ffdede\">***</span> <span style=\"background-color:#ffdede\">과정</span> <span style=\"background-color:#ff5e5e\">을</span> <span style=\"background-color:#ffe0e0\">루즈</span> <span style=\"background-color:#ff7979\">하고</span> <span style=\"background-color:#ffc0c0\">***</span> <span style=\"background-color:#fff4f4\">***</span> \n"
            ],
            "text/plain": [
              "<IPython.core.display.HTML object>"
            ]
          },
          "metadata": {
            "tags": []
          }
        },
        {
          "output_type": "stream",
          "text": [
            "        LRP heatmap:\n"
          ],
          "name": "stdout"
        },
        {
          "output_type": "display_data",
          "data": {
            "text/html": [
              "<span style=\"background-color:#fffefe\">일본</span> <span style=\"background-color:#fefeff\">***</span> <span style=\"background-color:#fffefe\">이</span> <span style=\"background-color:#fefeff\">미국</span> <span style=\"background-color:#fefeff\">***</span> <span style=\"background-color:#fffefe\">받은</span> <span style=\"background-color:#fffefe\">***</span> <span style=\"background-color:#fefeff\">의</span> <span style=\"background-color:#fffefe\">***</span> <span style=\"background-color:#fefeff\">과정</span> <span style=\"background-color:#fffefe\">을</span> <span style=\"background-color:#ffeaea\">루즈</span> <span style=\"background-color:#fefeff\">하고</span> <span style=\"background-color:#ff7e7e\">***</span> <span style=\"background-color:#ff0000\">***</span> \n"
            ],
            "text/plain": [
              "<IPython.core.display.HTML object>"
            ]
          },
          "metadata": {
            "tags": []
          }
        },
        {
          "output_type": "stream",
          "text": [
            "-----------------------------------------------------------\n",
            "WARNING:tensorflow:11 out of the last 11 calls to <function Model.make_predict_function.<locals>.predict_function at 0x7ff784c01d90> triggered tf.function retracing. Tracing is expensive and the excessive number of tracings could be due to (1) creating @tf.function repeatedly in a loop, (2) passing tensors with different shapes, (3) passing Python objects instead of tensors. For (1), please define your @tf.function outside of the loop. For (2), @tf.function has experimental_relax_shapes=True option that relaxes argument shapes that can avoid unnecessary retracing. For (3), please refer to https://www.tensorflow.org/tutorials/customization/performance#python_or_tensor_args and https://www.tensorflow.org/api_docs/python/tf/function for  more details.\n",
            " 예측 레이블: 부정 | 실제 레이블 :  긍정\n",
            "        SA heatmap:\n"
          ],
          "name": "stdout"
        },
        {
          "output_type": "display_data",
          "data": {
            "text/html": [
              "<span style=\"background-color:#ffd3d3\">딱</span> <span style=\"background-color:#ffcece\">***</span> <span style=\"background-color:#fff8f8\">새끼</span> <span style=\"background-color:#ffeaea\">가</span> <span style=\"background-color:#ff8c8c\">***</span> <span style=\"background-color:#ff6464\">했음</span> <span style=\"background-color:#ffe6e6\">그냥</span> <span style=\"background-color:#fff0f0\">가면</span> <span style=\"background-color:#ffe2e2\">그</span> <span style=\"background-color:#ffe0e0\">놈</span> <span style=\"background-color:#ff7c7c\">한테</span> <span style=\"background-color:#ffd8d8\">***</span> <span style=\"background-color:#ff8080\">것임</span> <span style=\"background-color:#ffc3c3\">한</span> <span style=\"background-color:#ffeeee\">놈</span> <span style=\"background-color:#ffc2c2\">,</span> <span style=\"background-color:#ffe8e8\">두</span> <span style=\"background-color:#ffecec\">놈</span> <span style=\"background-color:#ffa2a2\">막</span> <span style=\"background-color:#ffecec\">나올</span> <span style=\"background-color:#ffa6a6\">게</span> <span style=\"background-color:#ff6c6c\">***</span> <span style=\"background-color:#ff4141\">작살</span> <span style=\"background-color:#fff0f0\">낼</span> <span style=\"background-color:#ffe2e2\">수</span> <span style=\"background-color:#ffd2d2\">밖에</span> <span style=\"background-color:#ffd8d8\">없었다</span> \n"
            ],
            "text/plain": [
              "<IPython.core.display.HTML object>"
            ]
          },
          "metadata": {
            "tags": []
          }
        },
        {
          "output_type": "stream",
          "text": [
            "        LRP heatmap:\n"
          ],
          "name": "stdout"
        },
        {
          "output_type": "display_data",
          "data": {
            "text/html": [
              "<span style=\"background-color:#fefeff\">딱</span> <span style=\"background-color:#fffefe\">***</span> <span style=\"background-color:#fefeff\">새끼</span> <span style=\"background-color:#fefeff\">가</span> <span style=\"background-color:#fffefe\">***</span> <span style=\"background-color:#fefeff\">했음</span> <span style=\"background-color:#fefeff\">그냥</span> <span style=\"background-color:#fffefe\">가면</span> <span style=\"background-color:#fefeff\">그</span> <span style=\"background-color:#fffefe\">놈</span> <span style=\"background-color:#fefeff\">한테</span> <span style=\"background-color:#fffefe\">***</span> <span style=\"background-color:#fefeff\">것임</span> <span style=\"background-color:#fefeff\">한</span> <span style=\"background-color:#fefeff\">놈</span> <span style=\"background-color:#fefeff\">,</span> <span style=\"background-color:#fefeff\">두</span> <span style=\"background-color:#fefeff\">놈</span> <span style=\"background-color:#fefeff\">막</span> <span style=\"background-color:#fefeff\">나올</span> <span style=\"background-color:#fffefe\">게</span> <span style=\"background-color:#fefeff\">***</span> <span style=\"background-color:#fffefe\">작살</span> <span style=\"background-color:#fffefe\">낼</span> <span style=\"background-color:#fefeff\">수</span> <span style=\"background-color:#ffd0d0\">밖에</span> <span style=\"background-color:#0000ff\">없었다</span> \n"
            ],
            "text/plain": [
              "<IPython.core.display.HTML object>"
            ]
          },
          "metadata": {
            "tags": []
          }
        },
        {
          "output_type": "stream",
          "text": [
            "-----------------------------------------------------------\n",
            "WARNING:tensorflow:11 out of the last 11 calls to <function Model.make_predict_function.<locals>.predict_function at 0x7ff785c4bc80> triggered tf.function retracing. Tracing is expensive and the excessive number of tracings could be due to (1) creating @tf.function repeatedly in a loop, (2) passing tensors with different shapes, (3) passing Python objects instead of tensors. For (1), please define your @tf.function outside of the loop. For (2), @tf.function has experimental_relax_shapes=True option that relaxes argument shapes that can avoid unnecessary retracing. For (3), please refer to https://www.tensorflow.org/tutorials/customization/performance#python_or_tensor_args and https://www.tensorflow.org/api_docs/python/tf/function for  more details.\n",
            " 예측 레이블: 부정 | 실제 레이블 :  긍정\n",
            "        SA heatmap:\n"
          ],
          "name": "stdout"
        },
        {
          "output_type": "display_data",
          "data": {
            "text/html": [
              "<span style=\"background-color:#ffdada\">50</span> <span style=\"background-color:#ffc8c8\">번은</span> <span style=\"background-color:#fffefe\">봤네요</span> <span style=\"background-color:#ffb8b8\">어쩜</span> <span style=\"background-color:#ff9e9e\">이렇게</span> <span style=\"background-color:#ff5959\">잘</span> <span style=\"background-color:#ffe8e8\">만들었을까</span> \n"
            ],
            "text/plain": [
              "<IPython.core.display.HTML object>"
            ]
          },
          "metadata": {
            "tags": []
          }
        },
        {
          "output_type": "stream",
          "text": [
            "        LRP heatmap:\n"
          ],
          "name": "stdout"
        },
        {
          "output_type": "display_data",
          "data": {
            "text/html": [
              "<span style=\"background-color:#fffefe\">50</span> <span style=\"background-color:#fffefe\">번은</span> <span style=\"background-color:#fffefe\">봤네요</span> <span style=\"background-color:#fffefe\">어쩜</span> <span style=\"background-color:#fefeff\">이렇게</span> <span style=\"background-color:#ffe4e4\">잘</span> <span style=\"background-color:#0000ff\">만들었을까</span> \n"
            ],
            "text/plain": [
              "<IPython.core.display.HTML object>"
            ]
          },
          "metadata": {
            "tags": []
          }
        },
        {
          "output_type": "stream",
          "text": [
            "-----------------------------------------------------------\n",
            "WARNING:tensorflow:11 out of the last 11 calls to <function Model.make_predict_function.<locals>.predict_function at 0x7ff7833321e0> triggered tf.function retracing. Tracing is expensive and the excessive number of tracings could be due to (1) creating @tf.function repeatedly in a loop, (2) passing tensors with different shapes, (3) passing Python objects instead of tensors. For (1), please define your @tf.function outside of the loop. For (2), @tf.function has experimental_relax_shapes=True option that relaxes argument shapes that can avoid unnecessary retracing. For (3), please refer to https://www.tensorflow.org/tutorials/customization/performance#python_or_tensor_args and https://www.tensorflow.org/api_docs/python/tf/function for  more details.\n",
            " 예측 레이블: 부정 | 실제 레이블 :  부정\n",
            "        SA heatmap:\n"
          ],
          "name": "stdout"
        },
        {
          "output_type": "display_data",
          "data": {
            "text/html": [
              "<span style=\"background-color:#ffd8d8\">이</span> <span style=\"background-color:#ffcece\">것</span> <span style=\"background-color:#ffecec\">은</span> <span style=\"background-color:#fffefe\">뭐</span> <span style=\"background-color:#ff8c8c\">노답</span> <span style=\"background-color:#ff9393\">이네</span> <span style=\"background-color:#fff0f0\">***</span> <span style=\"background-color:#ffeaea\">대</span> <span style=\"background-color:#ffe8e8\">어린이</span> <span style=\"background-color:#ffeaea\">영화</span> <span style=\"background-color:#ff6161\">좀</span> <span style=\"background-color:#ffe0e0\">보고</span> <span style=\"background-color:#ff9898\">***</span> <span style=\"background-color:#ffcece\">!</span> \n"
            ],
            "text/plain": [
              "<IPython.core.display.HTML object>"
            ]
          },
          "metadata": {
            "tags": []
          }
        },
        {
          "output_type": "stream",
          "text": [
            "        LRP heatmap:\n"
          ],
          "name": "stdout"
        },
        {
          "output_type": "display_data",
          "data": {
            "text/html": [
              "<span style=\"background-color:#fffefe\">이</span> <span style=\"background-color:#fffefe\">것</span> <span style=\"background-color:#fffefe\">은</span> <span style=\"background-color:#fefeff\">뭐</span> <span style=\"background-color:#fffefe\">노답</span> <span style=\"background-color:#fffefe\">이네</span> <span style=\"background-color:#fffefe\">***</span> <span style=\"background-color:#fffefe\">대</span> <span style=\"background-color:#fffefe\">어린이</span> <span style=\"background-color:#fefeff\">영화</span> <span style=\"background-color:#fffefe\">좀</span> <span style=\"background-color:#fefeff\">보고</span> <span style=\"background-color:#fff4f4\">***</span> <span style=\"background-color:#0000ff\">!</span> \n"
            ],
            "text/plain": [
              "<IPython.core.display.HTML object>"
            ]
          },
          "metadata": {
            "tags": []
          }
        },
        {
          "output_type": "stream",
          "text": [
            "-----------------------------------------------------------\n",
            "WARNING:tensorflow:11 out of the last 11 calls to <function Model.make_predict_function.<locals>.predict_function at 0x7ff783b6ce18> triggered tf.function retracing. Tracing is expensive and the excessive number of tracings could be due to (1) creating @tf.function repeatedly in a loop, (2) passing tensors with different shapes, (3) passing Python objects instead of tensors. For (1), please define your @tf.function outside of the loop. For (2), @tf.function has experimental_relax_shapes=True option that relaxes argument shapes that can avoid unnecessary retracing. For (3), please refer to https://www.tensorflow.org/tutorials/customization/performance#python_or_tensor_args and https://www.tensorflow.org/api_docs/python/tf/function for  more details.\n",
            " 예측 레이블: 부정 | 실제 레이블 :  부정\n",
            "        SA heatmap:\n"
          ],
          "name": "stdout"
        },
        {
          "output_type": "display_data",
          "data": {
            "text/html": [
              "<span style=\"background-color:#ffd0d0\">평점</span> <span style=\"background-color:#ffbaba\">1</span> <span style=\"background-color:#fff4f4\">점도</span> <span style=\"background-color:#ffecec\">주기</span> <span style=\"background-color:#ff8c8c\">***</span> <span style=\"background-color:#ff6868\">영화</span> <span style=\"background-color:#ffeaea\">배우</span> <span style=\"background-color:#fff0f0\">나</span> <span style=\"background-color:#ffe0e0\">감독</span> <span style=\"background-color:#ffdcdc\">이라는</span> <span style=\"background-color:#ff7979\">사람</span> <span style=\"background-color:#ffe4e4\">이나</span> <span style=\"background-color:#ff7c7c\">영</span> <span style=\"background-color:#ffbaba\">화판</span> <span style=\"background-color:#fff6f6\">에서</span> <span style=\"background-color:#ffbaba\">안</span> <span style=\"background-color:#ffecec\">***</span> <span style=\"background-color:#ffeaea\">한다</span> <span style=\"background-color:#ffaaaa\">그리고</span> <span style=\"background-color:#ffe4e4\">평점</span> <span style=\"background-color:#ff9898\">알바생</span> <span style=\"background-color:#ff8686\">들</span> <span style=\"background-color:#ff2828\">너무</span> <span style=\"background-color:#fff4f4\">티</span> <span style=\"background-color:#ffd6d6\">난다</span> \n"
            ],
            "text/plain": [
              "<IPython.core.display.HTML object>"
            ]
          },
          "metadata": {
            "tags": []
          }
        },
        {
          "output_type": "stream",
          "text": [
            "        LRP heatmap:\n"
          ],
          "name": "stdout"
        },
        {
          "output_type": "display_data",
          "data": {
            "text/html": [
              "<span style=\"background-color:#fffefe\">평점</span> <span style=\"background-color:#fffefe\">1</span> <span style=\"background-color:#fefeff\">점도</span> <span style=\"background-color:#fefeff\">주기</span> <span style=\"background-color:#fffefe\">***</span> <span style=\"background-color:#fefeff\">영화</span> <span style=\"background-color:#fefeff\">배우</span> <span style=\"background-color:#fefeff\">나</span> <span style=\"background-color:#fffefe\">감독</span> <span style=\"background-color:#fefeff\">이라는</span> <span style=\"background-color:#fefeff\">사람</span> <span style=\"background-color:#fefeff\">이나</span> <span style=\"background-color:#fffefe\">영</span> <span style=\"background-color:#fffefe\">화판</span> <span style=\"background-color:#fffefe\">에서</span> <span style=\"background-color:#fefeff\">안</span> <span style=\"background-color:#fffefe\">***</span> <span style=\"background-color:#fffefe\">한다</span> <span style=\"background-color:#fffefe\">그리고</span> <span style=\"background-color:#fffefe\">평점</span> <span style=\"background-color:#fff6f6\">알바생</span> <span style=\"background-color:#fefeff\">들</span> <span style=\"background-color:#ffd2d2\">너무</span> <span style=\"background-color:#ff3636\">티</span> <span style=\"background-color:#ff0000\">난다</span> \n"
            ],
            "text/plain": [
              "<IPython.core.display.HTML object>"
            ]
          },
          "metadata": {
            "tags": []
          }
        },
        {
          "output_type": "stream",
          "text": [
            "-----------------------------------------------------------\n",
            "WARNING:tensorflow:11 out of the last 11 calls to <function Model.make_predict_function.<locals>.predict_function at 0x7ff784c01f28> triggered tf.function retracing. Tracing is expensive and the excessive number of tracings could be due to (1) creating @tf.function repeatedly in a loop, (2) passing tensors with different shapes, (3) passing Python objects instead of tensors. For (1), please define your @tf.function outside of the loop. For (2), @tf.function has experimental_relax_shapes=True option that relaxes argument shapes that can avoid unnecessary retracing. For (3), please refer to https://www.tensorflow.org/tutorials/customization/performance#python_or_tensor_args and https://www.tensorflow.org/api_docs/python/tf/function for  more details.\n",
            " 예측 레이블: 부정 | 실제 레이블 :  부정\n",
            "        SA heatmap:\n"
          ],
          "name": "stdout"
        },
        {
          "output_type": "display_data",
          "data": {
            "text/html": [
              "<span style=\"background-color:#ffcece\">엉</span> <span style=\"background-color:#ffbebe\">성한</span> <span style=\"background-color:#fff0f0\">액션</span> <span style=\"background-color:#fff6f6\">에</span> <span style=\"background-color:#ff7676\">,</span> <span style=\"background-color:#ff6969\">시나리오</span> <span style=\"background-color:#ffe6e6\">는</span> <span style=\"background-color:#ffecec\">***</span> <span style=\"background-color:#ffdede\">..</span> <span style=\"background-color:#ffdede\">막판</span> <span style=\"background-color:#ff6464\">에</span> <span style=\"background-color:#ffdede\">***</span> <span style=\"background-color:#ff7878\">??</span> \n"
            ],
            "text/plain": [
              "<IPython.core.display.HTML object>"
            ]
          },
          "metadata": {
            "tags": []
          }
        },
        {
          "output_type": "stream",
          "text": [
            "        LRP heatmap:\n"
          ],
          "name": "stdout"
        },
        {
          "output_type": "display_data",
          "data": {
            "text/html": [
              "<span style=\"background-color:#fffefe\">엉</span> <span style=\"background-color:#fffefe\">성한</span> <span style=\"background-color:#fefeff\">액션</span> <span style=\"background-color:#fffefe\">에</span> <span style=\"background-color:#fffefe\">,</span> <span style=\"background-color:#fffefe\">시나리오</span> <span style=\"background-color:#fffefe\">는</span> <span style=\"background-color:#fffefe\">***</span> <span style=\"background-color:#fffcfc\">..</span> <span style=\"background-color:#fff6f6\">막판</span> <span style=\"background-color:#fffafa\">에</span> <span style=\"background-color:#ff9c9c\">***</span> <span style=\"background-color:#ff0000\">??</span> \n"
            ],
            "text/plain": [
              "<IPython.core.display.HTML object>"
            ]
          },
          "metadata": {
            "tags": []
          }
        },
        {
          "output_type": "stream",
          "text": [
            "-----------------------------------------------------------\n",
            "WARNING:tensorflow:11 out of the last 11 calls to <function Model.make_predict_function.<locals>.predict_function at 0x7ff785c15ea0> triggered tf.function retracing. Tracing is expensive and the excessive number of tracings could be due to (1) creating @tf.function repeatedly in a loop, (2) passing tensors with different shapes, (3) passing Python objects instead of tensors. For (1), please define your @tf.function outside of the loop. For (2), @tf.function has experimental_relax_shapes=True option that relaxes argument shapes that can avoid unnecessary retracing. For (3), please refer to https://www.tensorflow.org/tutorials/customization/performance#python_or_tensor_args and https://www.tensorflow.org/api_docs/python/tf/function for  more details.\n",
            " 예측 레이블: 부정 | 실제 레이블 :  부정\n",
            "        SA heatmap:\n"
          ],
          "name": "stdout"
        },
        {
          "output_type": "display_data",
          "data": {
            "text/html": [
              "<span style=\"background-color:#ffd2d2\">***</span> <span style=\"background-color:#ffc8c8\">,</span> <span style=\"background-color:#ffecec\">***</span> <span style=\"background-color:#fffefe\">..</span> <span style=\"background-color:#ff8282\">***</span> <span style=\"background-color:#ff8383\">은</span> <span style=\"background-color:#ffecec\">못</span> <span style=\"background-color:#ffeaea\">***</span> <span style=\"background-color:#ffe6e6\">같다</span> \n"
            ],
            "text/plain": [
              "<IPython.core.display.HTML object>"
            ]
          },
          "metadata": {
            "tags": []
          }
        },
        {
          "output_type": "stream",
          "text": [
            "        LRP heatmap:\n"
          ],
          "name": "stdout"
        },
        {
          "output_type": "display_data",
          "data": {
            "text/html": [
              "<span style=\"background-color:#fffefe\">***</span> <span style=\"background-color:#fffefe\">,</span> <span style=\"background-color:#fffefe\">***</span> <span style=\"background-color:#fffefe\">..</span> <span style=\"background-color:#fffefe\">***</span> <span style=\"background-color:#fefeff\">은</span> <span style=\"background-color:#f2f2ff\">못</span> <span style=\"background-color:#fff0f0\">***</span> <span style=\"background-color:#0000ff\">같다</span> \n"
            ],
            "text/plain": [
              "<IPython.core.display.HTML object>"
            ]
          },
          "metadata": {
            "tags": []
          }
        },
        {
          "output_type": "stream",
          "text": [
            "-----------------------------------------------------------\n"
          ],
          "name": "stdout"
        }
      ]
    },
    {
      "cell_type": "markdown",
      "metadata": {
        "id": "hL5JeoDJu7f7",
        "colab_type": "text"
      },
      "source": [
        "## 실습\n",
        "- 위 전반적인 감정 분석 과정 \n",
        "- 형태소 분석기 변환\n",
        "- 토큰화 10000 -> 1000\n",
        "- LSTM 설계\n",
        "- LRP"
      ]
    }
  ]
}